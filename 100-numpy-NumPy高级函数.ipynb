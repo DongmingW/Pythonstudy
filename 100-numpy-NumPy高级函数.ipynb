{
 "cells": [
  {
   "cell_type": "code",
   "execution_count": null,
   "metadata": {},
   "outputs": [],
   "source": [
    "# NumPy高级函数：计算协方差矩阵\n",
    "from numpy import *\n",
    "\n",
    "a = array([1,3,4,5])\n",
    "b = array([2,6,2,2])\n",
    "x = vstack((a,b))\n",
    "print(x)\n",
    "print(cov(x))\n",
    "\n",
    "#  cov函数会将正常的结果缩小到原来的1/3"
   ]
  },
  {
   "cell_type": "code",
   "execution_count": null,
   "metadata": {},
   "outputs": [],
   "source": [
    "# NumPy高级函数：获取矩阵主对角线上元素以及计算矩阵的迹\n",
    "%matplotlib inline  \n",
    "from numpy import *\n",
    "# 矩阵的迹(迹数） 矩阵主对角线元素值的和\n",
    "\n",
    "# diagonal：获取矩阵主对角线上的元素\n",
    "\n",
    "a = array([2,3,5,1,7,4,8,4,3])\n",
    "a.shape = (3,3)\n",
    "print(a)\n",
    "\n",
    "print(a.diagonal())\n",
    "\n",
    "#  trace：获取矩阵的迹\n",
    "print(a.trace())\n"
   ]
  },
  {
   "cell_type": "code",
   "execution_count": null,
   "metadata": {},
   "outputs": [],
   "source": [
    "# NumPy高级函数：计算两只股票的相关性\n",
    "# NumPy高级函数：计算两只股票的相关性\n",
    "%matplotlib inline \n",
    "from numpy import *\n",
    "\n",
    "# 相关性:两个数组之间的相关性\n",
    "# 数组的相关性：如果将数组中的值绘制成两条曲线，\n",
    "# 那么这两条曲线的趋势就是这两个数组的相关性\n",
    "\n",
    "a = array([121.836,124.332,122.928,121.29,122.109,120.107,119.743,120.068,119.288,122.083,122.98,121.251,122.759,124.826,124.488,122.811,122.642,119.886,114.803,116.467,115.726,113.035,110.344,113.594,115.128,116.467,115.323,117.026,118.638,117.871])\n",
    "b = array([44.681,45.669,45.682,45.903,46.241,45.539,43.472,44.122,44.473,44.551,44.499,43.888,44.616,45.331,44.85,43.199,43.277,42.744,41.483,41.821,42.172,41.483,40.352,40.963,41.782,42.146,41.925,42.51,42.068,42.042])\n",
    "\n",
    "b = b * 3\n",
    "# 相关性（系数）被定义为协方差除以各自的标准差的乘积\n",
    "# 相关性的范围：-1到1之间\n",
    "print(corrcoef(a,b))\n",
    "\n",
    "from matplotlib.pyplot import *\n",
    "t = arange(len(a))\n",
    "plot(t,a,lw = 1)\n",
    "plot(t,b,lw = 2)\n",
    "show()\n",
    "\n",
    "from numpy import *\n",
    "\n",
    "# 相关性:两个数组之间的相关性\n",
    "# 数组的相关性：如果将数组中的值绘制成两条曲线，\n",
    "# 那么这两条曲线的趋势就是这两个数组的相关性\n",
    "\n",
    "a = array([121.836,124.332,122.928,121.29,122.109,120.107,119.743,120.068,119.288,122.083,122.98,121.251,122.759,124.826,124.488,122.811,122.642,119.886,114.803,116.467,115.726,113.035,110.344,113.594,115.128,116.467,115.323,117.026,118.638,117.871])\n",
    "b = array([44.681,45.669,45.682,45.903,46.241,45.539,43.472,44.122,44.473,44.551,44.499,43.888,44.616,45.331,44.85,43.199,43.277,42.744,41.483,41.821,42.172,41.483,40.352,40.963,41.782,42.146,41.925,42.51,42.068,42.042])\n",
    "\n",
    "b = b * 3\n",
    "# 相关性（系数）被定义为协方差除以各自的标准差的乘积\n",
    "# 相关性的范围：-1到1之间\n",
    "print(corrcoef(a,b))\n",
    "\n",
    "from matplotlib.pyplot import *\n",
    "t = arange(len(a))\n",
    "plot(t,a,lw = 1)\n",
    "plot(t,b,lw = 2)\n",
    "show()\n"
   ]
  }
 ],
 "metadata": {
  "kernelspec": {
   "display_name": "Python 3",
   "language": "python",
   "name": "python3"
  },
  "language_info": {
   "codemirror_mode": {
    "name": "ipython",
    "version": 3
   },
   "file_extension": ".py",
   "mimetype": "text/x-python",
   "name": "python",
   "nbconvert_exporter": "python",
   "pygments_lexer": "ipython3",
   "version": "3.7.0"
  }
 },
 "nbformat": 4,
 "nbformat_minor": 2
}
