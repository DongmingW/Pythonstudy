{
 "cells": [
  {
   "cell_type": "markdown",
   "metadata": {},
   "source": [
    "## 数字类型"
   ]
  },
  {
   "cell_type": "code",
   "execution_count": 1,
   "metadata": {},
   "outputs": [
    {
     "name": "stdout",
     "output_type": "stream",
     "text": [
      "a= 1.0 a的类型 <class 'float'>\n",
      "b= 1 b的类型 <class 'int'>\n"
     ]
    }
   ],
   "source": [
    "a = 1.0\n",
    "print(\"a=\",a,\"a的类型\",type(a))\n",
    "\n",
    "b = int(a)\n",
    "print(\"b=\",b,\"b的类型\",type(b))\n"
   ]
  },
  {
   "cell_type": "code",
   "execution_count": 2,
   "metadata": {},
   "outputs": [
    {
     "name": "stdout",
     "output_type": "stream",
     "text": [
      "5\n",
      "4\n",
      "3.14\n",
      "10.0\n"
     ]
    }
   ],
   "source": [
    "import math\n",
    "\n",
    "print(math.ceil(4.1) )\n",
    "print(math.floor(4.9))\n",
    "print(round(3.1415,2))\n",
    "\n",
    "print(math.fabs(-10) )\n",
    "\n"
   ]
  },
  {
   "cell_type": "code",
   "execution_count": 7,
   "metadata": {},
   "outputs": [
    {
     "name": "stdout",
     "output_type": "stream",
     "text": [
      "range(0, 10)\n",
      "4\n",
      "19\n",
      "0.12291861718074704\n"
     ]
    }
   ],
   "source": [
    "import random\n",
    "\n",
    "i = random.choice(range(10))\n",
    "print(i)\n",
    "j = random.randrange (1,20,2)\n",
    "print(j)\n",
    "r = random.random()\n",
    "print(r)"
   ]
  },
  {
   "cell_type": "code",
   "execution_count": null,
   "metadata": {
    "scrolled": false
   },
   "outputs": [],
   "source": [
    "import math\n",
    "print(math.pi)\n",
    "print(math.sin(math.pi/2))\n",
    "print(math.cos(math.pi))"
   ]
  },
  {
   "cell_type": "markdown",
   "metadata": {},
   "source": [
    "## 字符串类型"
   ]
  },
  {
   "cell_type": "code",
   "execution_count": 8,
   "metadata": {},
   "outputs": [
    {
     "name": "stdout",
     "output_type": "stream",
     "text": [
      "var1字符串的值 Hello World!\n",
      "var1[0]:  H\n",
      "var1[1:5]:  ello\n",
      "var1字符串中最后一个元素的值:  !\n"
     ]
    }
   ],
   "source": [
    "var1 = 'Hello World!' \n",
    "print(\"var1字符串的值\",var1)\n",
    "print (\"var1[0]: \", var1[0]) \n",
    "print (\"var1[1:5]: \", var1[1:5])\n",
    "print (\"var1字符串中最后一个元素的值: \", var1[-1]) \n"
   ]
  },
  {
   "cell_type": "code",
   "execution_count": 9,
   "metadata": {},
   "outputs": [
    {
     "name": "stdout",
     "output_type": "stream",
     "text": [
      "a+b= HelloPython\n",
      "a*2= HelloHello\n",
      "字符串a中包含字符 H吗？ True\n",
      "Hello Python HelloPython\n",
      "Hello \t Python \n",
      " HelloPython\n",
      "Hello \t Python \\n HelloPython\n"
     ]
    }
   ],
   "source": [
    "a = \"Hello\"\n",
    "b = \"Python\"\n",
    "print(\"a+b=\",a+b)\n",
    "print(\"a*2=\",a*2)\n",
    "print(\"字符串a中包含字符 H吗？\",\"H\" in a)\n",
    "print(a,b,a+b)\n",
    "print(a,\"\\t\",b,\"\\n\",a+b)\n",
    "print(a,\"\\t\",b,r\"\\n\",a+b)"
   ]
  },
  {
   "cell_type": "code",
   "execution_count": 20,
   "metadata": {},
   "outputs": [
    {
     "name": "stdout",
     "output_type": "stream",
     "text": [
      "H\n",
      "e\n",
      "l\n",
      "l\n",
      "o\n"
     ]
    }
   ],
   "source": [
    "a = \"Hello\"\n",
    "for c in a:\n",
    "    print(c)"
   ]
  },
  {
   "cell_type": "code",
   "execution_count": 10,
   "metadata": {},
   "outputs": [
    {
     "name": "stdout",
     "output_type": "stream",
     "text": [
      "我叫 小明 今年 10 岁!\n",
      "我叫 大王 今年 20 岁!\n",
      "num为：12。\n",
      "num为：a。\n"
     ]
    }
   ],
   "source": [
    "print (\"我叫 %s 今年 %d 岁!\" % ('小明', 10))\n",
    "name = \"大王\"\n",
    "age = 20\n",
    "print (\"我叫 %s 今年 %d 岁!\" % (name, age))\n",
    "num = 10\n",
    "print('num为：%o。' % num)\n",
    "print('num为：%x。' % num)"
   ]
  },
  {
   "cell_type": "code",
   "execution_count": 11,
   "metadata": {
    "scrolled": true
   },
   "outputs": [
    {
     "name": "stdout",
     "output_type": "stream",
     "text": [
      "圆周率近似到小数点后3位为：3.142。\n",
      "num为：100       。\n",
      "num为：      +100。\n",
      "num为：0000000100。\n"
     ]
    }
   ],
   "source": [
    "PI =  3.1415926535\n",
    "print('圆周率近似到小数点后3位为：%5.3f。' % PI)\n",
    "num = 100\n",
    "print('num为：%-10d。' % num)\n",
    "print('num为：%+10d。' % num)\n",
    "print('num为：%010d。' % num)\n"
   ]
  },
  {
   "cell_type": "code",
   "execution_count": 12,
   "metadata": {},
   "outputs": [
    {
     "name": "stdout",
     "output_type": "stream",
     "text": [
      "菜鸟教程网址： \"www.runoob.com!\"\n"
     ]
    }
   ],
   "source": [
    "# str.format() 的基本使用如下:\n",
    "print('{}网址： \"{}!\"'.format('菜鸟教程', 'www.runoob.com'))\n",
    "# 括号及其里面的字符 (称作格式化字段) 将会被 format() 中的参数替换。\n"
   ]
  },
  {
   "cell_type": "code",
   "execution_count": 13,
   "metadata": {},
   "outputs": [
    {
     "name": "stdout",
     "output_type": "stream",
     "text": [
      "Google 和 Runoob\n"
     ]
    }
   ],
   "source": [
    "#在括号中的数字用于指向传入对象在 format() 中的位置，如下所示：\n",
    "print('{0} 和 {1}'.format('Google', 'Runoob'))\n"
   ]
  },
  {
   "cell_type": "code",
   "execution_count": 14,
   "metadata": {},
   "outputs": [
    {
     "name": "stdout",
     "output_type": "stream",
     "text": [
      "菜鸟教程网址： www.runoob.com\n"
     ]
    }
   ],
   "source": [
    "#如果在 format() 中使用了关键字参数, 那么它们的值会指向使用该名字的参数。\n",
    "print('{name}网址： {site}'.format(name='菜鸟教程', site='www.runoob.com'))\n"
   ]
  },
  {
   "cell_type": "code",
   "execution_count": 15,
   "metadata": {},
   "outputs": [
    {
     "name": "stdout",
     "output_type": "stream",
     "text": [
      "站点列表 Google, Runoob, 和 Taobao。\n"
     ]
    }
   ],
   "source": [
    "#位置及关键字参数可以任意的结合:\n",
    "print('站点列表 {0}, {1}, 和 {other}。'.format('Google', 'Runoob', other='Taobao'))\n"
   ]
  },
  {
   "cell_type": "code",
   "execution_count": null,
   "metadata": {},
   "outputs": [],
   "source": [
    "# 更进一步控制字符串格式化参数\n",
    "\n",
    "# 字符串格式化类型符\n",
    "# repr函数  repr('a') = 'a'  str('a') = a\n",
    "s1 = \"原样输出：{first!s}  调用repr函数：{first!r}  输出Unicode编码：{first!a}\"\n",
    "print(s1.format(first = \"中\"))\n",
    "\n",
    "# 将一个整数按浮点数格式输出\n",
    "s2 = \"整数：{num}  浮点数：{num:f}\"\n",
    "print(s2.format(num=123))\n",
    "\n",
    "# 进制转换\n",
    "s3 = \"十进制：{num}  二进制：{num:b} 八进制：{num:o}  十六进制：{num:x}\"\n",
    "print(s3.format(num = 78))\n",
    "\n",
    "# 将整数按科学计数法\n",
    "s4 = \"科学计数法：{num:e}\"\n",
    "print(s4.format(num =6789))\n",
    "\n",
    "#  将浮点数按百分比输出\n",
    "s5 = \"百分比：{num:%}\"\n",
    "print(s5.format(num = 0.34))\n",
    "\n",
    "\"\"\"\n",
    "a  将字符串按Unicode编码输出\n",
    "b  将一个整数格式化为一个二进制数\n",
    "c  将一个整数解释成ASCII\n",
    "d  将整数格式化为十进制的数\n",
    "e/E  科学计数法表示\n",
    "f/F  将一个整数格式化为浮点数，（nan和inf）转换为小写\n",
    "g/G  会根据整数值的位数，在浮点数和科学计数法之间切换，在整数位超过6位时，与e相同，否则与f相同\n",
    "o   将一个整数格式化为八进制\n",
    "s   按原样格式化字符串\n",
    "x/X 将一个整数格式化为十六进制数\n",
    "%   将一个数值格式化为百分比形式\n",
    "\"\"\"\n",
    "print()\n"
   ]
  },
  {
   "cell_type": "code",
   "execution_count": 21,
   "metadata": {},
   "outputs": [
    {
     "name": "stdout",
     "output_type": "stream",
     "text": [
      "a:          32\n",
      "姓名        年龄    \n",
      "Bill          43\n",
      "Mike          34\n",
      "float number:3.142\n",
      "float number:              3.1416\n",
      "Hello\n",
      "One googol is 10,000,000,000,000,000,000,000,000,000,000,000,000,000,000,000,000,000,000,000,000,000,000,000,000,000,000,000,000,000,000,000,000,000\n"
     ]
    }
   ],
   "source": [
    "# 字段宽度、精度和千位分隔符\n",
    "#  100,000,000,000\n",
    "\n",
    "# 让一个数值在宽度为12的范围内输出，如果数值没到12位，左侧填充空格\n",
    "print(\"a:{num:12}\".format(num = 32))\n",
    "\n",
    "#  create table\n",
    "print(\"{header1:10}{header2:6}\".format(header1=\"姓名\",header2=\"年龄\"))\n",
    "print(\"{cell11:10}{cell12:6}\".format(cell11 = \"Bill\", cell12=43))\n",
    "print(\"{cell21:10}{cell22:6}\".format(cell21 = \"Mike\", cell22 = 34))\n",
    "\n",
    "from math import pi\n",
    "print(\"float number:{pi:.3f}\".format(pi = pi))\n",
    "print(\"float number:{pi:20.4f}\".format(pi = pi))\n",
    "\n",
    "# 截取字符串\n",
    "print(\"{msg:.5}\".format(msg = \"Hello World\"))\n",
    "\n",
    "# 千位分隔符\n",
    "print(\"One googol is {:,}\".format(10 ** 100))"
   ]
  },
  {
   "cell_type": "code",
   "execution_count": 22,
   "metadata": {},
   "outputs": [
    {
     "name": "stdout",
     "output_type": "stream",
     "text": [
      "00000003.142\n",
      "       3.142\n",
      "3.142#######\n",
      "###3.142####\n",
      "#######3.142\n",
      "-0000003.142\n"
     ]
    }
   ],
   "source": [
    "# 符号、对齐和用0填充\n",
    "# 12  00000012\n",
    "\n",
    "from math import pi\n",
    "print(\"{pi:012.3f}\".format(pi = pi))\n",
    "print(\"{pi:#12.3f}\".format(pi = pi))\n",
    "\n",
    "# <（左对齐） ^（中对齐） >（右对齐）\n",
    "print(\"{pi:#<12.3f}\".format(pi = pi))\n",
    "print(\"{pi:#^12.3f}\".format(pi = pi))\n",
    "print(\"{pi:#>12.3f}\".format(pi = pi))\n",
    "\n",
    "print(\"{pi:0=12.3f}\".format(pi = -pi))"
   ]
  },
  {
   "cell_type": "code",
   "execution_count": 16,
   "metadata": {
    "scrolled": false
   },
   "outputs": [
    {
     "name": "stdout",
     "output_type": "stream",
     "text": [
      "Verygood123\n",
      "True\n",
      "False\n",
      "2\n",
      "11\n",
      "y\n",
      "v,e,r,y,g,o,o,d,1,2,3\n",
      "verygood123\n",
      "verygood123\n"
     ]
    }
   ],
   "source": [
    "var1 = 'verygood123'\n",
    "print(var1.isalnum() )     # 如果字符串至少有一个字符并且所有字符都是字母或数字则返 回 True,否则返回 False\n",
    "print(var1.isalpha() )     #如果字符串至少有一个字符并且所有字符都是字母则返回 True, 否则返回 False\n",
    "print(var1.count(\"o\") ) \n",
    "\n",
    "print(len(var1))           #返回字符串长度\n",
    "print(max(var1))\n",
    "\n"
   ]
  },
  {
   "cell_type": "code",
   "execution_count": 24,
   "metadata": {},
   "outputs": [
    {
     "name": "stdout",
     "output_type": "stream",
     "text": [
      "hello\n",
      "HELLO\n",
      "未找到Kotlin\n",
      "找到Kotlin了\n",
      "Verygood123\n",
      "I not only like python, but also like kotlin\n",
      "I Not Only Like Python, But Also Like Kotlin\n"
     ]
    }
   ],
   "source": [
    "\n",
    "# 字符串方法：capitalize、lower、upper、capitalize和capwords函数\n",
    "print(\"HEllo\".lower())\n",
    "print(\"hello\".upper())\n",
    "\n",
    "list = [\"Python\", \"Ruby\", \"Java\",\"KOTLIN\"]\n",
    "if \"Kotlin\" in list:\n",
    "    print(\"找到Kotlin了\")\n",
    "else:\n",
    "    print(\"未找到Kotlin\")\n",
    "\n",
    "for lang in list:\n",
    "    if \"kotlin\" == lang.lower():\n",
    "        print(\"找到Kotlin了\")\n",
    "        break;\n",
    "\n",
    "var1 = 'verygood123'\n",
    "print(var1.capitalize())\n",
    "\n",
    "s = \"i not only like Python, but also like Kotlin\"\n",
    "print(s.capitalize())\n",
    "\n",
    "from string import capwords\n",
    "print(capwords(s))"
   ]
  },
  {
   "cell_type": "code",
   "execution_count": null,
   "metadata": {},
   "outputs": [],
   "source": [
    "# 字符串方法：join\n",
    "\n",
    "# 以指定字符串作为分隔符，将 seq 中所有的元素(字符串表示)合并为一个新的字符串\n",
    "\n",
    "var1 = 'verygood123'\n",
    "var2 = \",\"\n",
    "print(var2.join(var1) )     \n",
    "\n",
    "list = [\"a\", \"b\", \"c\", \"d\", \"e\"]\n",
    "s = '*'\n",
    "print(s.join(list))\n",
    "print(\"xy\".join(list))\n",
    "\n",
    "# C:\\abc\\xyz\n",
    "# /abc/xyz\n",
    "# c:\\usr\\local\\nginx\\\n",
    "# /usr/local/nginx/\n",
    "\n",
    "dirs = '','usr','local','nginx',''\n",
    "linuxPath = '/'.join(dirs)\n",
    "print(linuxPath)\n",
    "\n",
    "windowPath = 'C:' + '\\\\'.join(dirs)\n",
    "print(windowPath)\n",
    "\n",
    "numList = [1,2,3,4,5,6]\n",
    "#print(\"a\".join(numList))\n",
    "\n",
    "numList = [\"1\",\"2\",\"3\",\"4\",\"5\",\"6\"]\n",
    "print(\"a\".join(numList))\n"
   ]
  },
  {
   "cell_type": "code",
   "execution_count": 23,
   "metadata": {},
   "outputs": [
    {
     "name": "stdout",
     "output_type": "stream",
     "text": [
      "['a', 'b', 'c', 'd', 'e', 'f']\n",
      "['a', 'b', 'c', 'd', 'e']\n",
      "['', 'usr', 'local', 'nginx']\n",
      "D:\\usr\\local\\nginx\n"
     ]
    }
   ],
   "source": [
    "# 字符串方法：split方法\n",
    "s1 = \"a b c d e f\"\n",
    "print(s1.split())\n",
    "\n",
    "s2= \"a*b*c*d*e\"\n",
    "print(s2.split(\"*\"))\n",
    "\n",
    "path = \"/usr/local/nginx\"\n",
    "pathList = path.split('/')\n",
    "print(pathList)\n",
    "windowPath = \"D:\" + \"\\\\\".join(pathList)\n",
    "print(windowPath)\n"
   ]
  },
  {
   "cell_type": "code",
   "execution_count": null,
   "metadata": {},
   "outputs": [],
   "source": [
    "# 字符串方法：find\n",
    "s = \"hello world\"\n",
    "print(s.find(\"world\"))\n",
    "\n",
    "print(s.find(\"abc\"))\n",
    "\n",
    "print(s.find(\"o\"))\n",
    "print(s.find(\"o\",6))\n",
    "\n",
    "print(s.find(\"l\",5,9))\n",
    "print(s.find(\"l\",5,10))"
   ]
  },
  {
   "cell_type": "code",
   "execution_count": null,
   "metadata": {},
   "outputs": [],
   "source": [
    "# 字符串方法：replace和strip\n",
    "\n",
    "s = \"abcdaedf\"\n",
    "print(s.replace(\"a\", \"12345\"))\n",
    "\n",
    "print(s.replace(\"xyz\",\"aa\"))\n",
    "\n",
    "print(\"   geekori.com   \".strip())\n",
    "print(\" <  geekori.com  >  \".strip())\n",
    "\n",
    "langList = [\"python\", \"java\", \"ruby\", \"scala\", \"perl\"]\n",
    "lang = \"   python   \"\n",
    "if lang in langList:\n",
    "    print(\"找到了python\")\n",
    "else:\n",
    "    print(\"未找到python\")\n",
    "    \n",
    "if lang.strip() in langList:\n",
    "    print(\"找到了python\")\n",
    "else:\n",
    "    print(\"未找到python\")\n",
    "\n",
    "s = \"***  $$*  Hello * World   ***$$$  \"\n",
    "print(s.strip(\" *$\"))\n",
    "\n",
    "var1 = '     verygood123'\n",
    "print(var1.lstrip() )     #截掉字符串左边的空格或指定字符\n",
    "var2 = '###verygood123'\n",
    "print(var2.lstrip(\"#\")  )    #截掉字符串左边的空格或指定字符"
   ]
  },
  {
   "cell_type": "code",
   "execution_count": null,
   "metadata": {},
   "outputs": [],
   "source": [
    "# 字符串方法：translate和maketrans\n",
    "\n",
    "# translate：替换单个字符\n",
    "\n",
    "s = \"I not only like python, but also like kotlin.\"\n",
    "table = s.maketrans(\"ak\", \"*$\")\n",
    "print(table)\n",
    "print(s.translate(table))"
   ]
  },
  {
   "cell_type": "markdown",
   "metadata": {},
   "source": [
    "## 列表类型"
   ]
  },
  {
   "cell_type": "code",
   "execution_count": null,
   "metadata": {},
   "outputs": [],
   "source": [
    "#创建一个列表，例如：\n",
    "\n",
    "list1 = ['Google', 'Runoob', 1997, 2000]\n",
    "list2 = [1, 2, 3, 4, 5 ]\n",
    "list3 = [\"a\", \"b\", \"c\", \"d\"]\n",
    "\n",
    "#访问列表中的值：使用下标索引来访问列表中的值：\n",
    "\n",
    "print (\"list1[0]: \", list1[0])\n",
    "print (\"list1[-1]: \", list1[-1])\n"
   ]
  },
  {
   "cell_type": "code",
   "execution_count": null,
   "metadata": {},
   "outputs": [],
   "source": [
    "#更新列表：可以对列表的数据项进行修改或更新，你也可以使用append()方法来添加列表项：\n",
    "\n",
    "list = ['Google', 'Runoob', 1997, 2000] \n",
    "print (\"第三个元素为 : \", list[2])\n",
    "list[2] = 2001\n",
    "print (\"更新后的第三个元素为 : \", list[2])\n"
   ]
  },
  {
   "cell_type": "code",
   "execution_count": null,
   "metadata": {},
   "outputs": [],
   "source": [
    "#删除列表元素：可以使用 del 语句来删除列表的的元素：\n",
    "del list[2]\n",
    "print (\"删除第三个元素 : \", list)\n"
   ]
  },
  {
   "cell_type": "code",
   "execution_count": 4,
   "metadata": {},
   "outputs": [
    {
     "name": "stdout",
     "output_type": "stream",
     "text": [
      "https\n",
      "geekori.com\n",
      "[2, 3]\n",
      "[1, 2, 3, 4, 5, 6]\n",
      "[6, 7]\n",
      "[]\n",
      "[5, 6, 7, 8]\n",
      "[5, 6, 7, 8]\n",
      "[2, 3, 4, 5, 6, 7, 8]\n",
      "[1, 2, 3, 4, 5]\n",
      "[1, 2, 3, 4, 5]\n",
      "[1, 2, 3, 4, 5, 6, 7, 8]\n",
      "-----------------------\n",
      "[1, 400, 3, 4, 5, 6, 7, 8]\n",
      "[1, 2, 3, 4, 5, 6, 7, 8]\n",
      "[1, 100, 3, 4, 5, 6, 7, 8]\n",
      "[1, 100, 3, 4, 5, 6, 7, 8]\n",
      "[1, 3, 5, 7]\n",
      "[100, 4, 6, 8]\n",
      "[8, 7, 6, 5, 4, 3, 100]\n",
      "[8, 7, 6, 5, 4, 3, 100, 1]\n"
     ]
    }
   ],
   "source": [
    "# 分片（Slicing)\n",
    "# 分片：从一个序列中获取子序列\n",
    "# 分片有3个参数：startIndex、endIndex和step\n",
    "#  分片可以截取子字符串\n",
    "url = 'https://geekori.com'\n",
    "\n",
    "print(url[0:5])\n",
    "print(url[8:len(url)])\n",
    "\n",
    "numbers = [1,2,3,4,5,6,7,8]\n",
    "print(numbers[1:3])  # [2,3]\n",
    "print(numbers[0:6])  # [1,2,3,4,5,6]\n",
    "print(numbers[-3:-1]) # [6,7]\n",
    "\n",
    "print(numbers[-3: 1])  # 当结束索引小于开始索引时，返回空的列表\n",
    "\n",
    "# 省略开始索引和结束索引\n",
    "print(numbers[4:len(numbers)])\n",
    "print(numbers[4:])\n",
    "print(numbers[1:])\n",
    "\n",
    "print(numbers[0:5])\n",
    "print(numbers[:5])\n",
    "print(numbers[:])\n",
    "print('-----------------------')\n",
    "\n",
    "numbers1 = numbers[:]\n",
    "numbers1[1] = 400\n",
    "print(numbers1)\n",
    "print(numbers)\n",
    "\n",
    "numbers = [1,2,3,4,5,6,7,8]\n",
    "numbers1 = numbers\n",
    "numbers1[1] = 100\n",
    "print(numbers1)\n",
    "print(numbers)\n",
    "\n",
    "\n",
    "# 设置分片的步长\n",
    "# 截取奇数序列\n",
    "print(numbers[0::2])\n",
    "# 获取偶数序列\n",
    "print(numbers[1::2])\n",
    "\n",
    "# 获取倒序排列\n",
    "print(numbers[len(numbers):0:-1])\n",
    "\n",
    "print(numbers[::-1])  # 复制整个序列，并且将序列倒序排列"
   ]
  },
  {
   "cell_type": "code",
   "execution_count": 13,
   "metadata": {},
   "outputs": [
    {
     "name": "stdout",
     "output_type": "stream",
     "text": [
      "['马云']\n",
      "6\n",
      "['Bill', 'Joe', '李宁', 'a', 'b', 'c']\n",
      "['J', 'o', 'h', 'n']\n",
      "['J', 'o', 'e']\n",
      "[1, 2, 3, 7, 8]\n"
     ]
    }
   ],
   "source": [
    "# 分片赋值\n",
    "\n",
    "names = [\"Bill\", \"Joe\", \"李宁\",\"马云\"]\n",
    "print(names[3:])\n",
    "names[3:] = [\"a\",\"b\",\"c\"]\n",
    "print(len(names))\n",
    "print(names)\n",
    "\n",
    "name = list(\"John\")\n",
    "print(name)\n",
    "name[2:] = list(\"e\")\n",
    "print(name)\n",
    "\n",
    "numbers = [1,2,3,4,5,6,7,8]\n",
    "numbers[3:6] = []\n",
    "print(numbers)\n"
   ]
  },
  {
   "cell_type": "code",
   "execution_count": 17,
   "metadata": {},
   "outputs": [
    {
     "name": "stdout",
     "output_type": "stream",
     "text": [
      "x= [['a', 'b', 'c'], [1, 2, 3]]\n",
      "x[0]= ['a', 'b', 'c']\n",
      "x[0][1]= b\n"
     ]
    }
   ],
   "source": [
    "#嵌套列表：\n",
    "a = ['a', 'b', 'c']\n",
    "n = [1, 2, 3]\n",
    "x = [a, n]\n",
    "\n",
    "print('x=',x)\n",
    "print('x[0]=',x[0])\n",
    "print('x[0][1]=',x[0][1])\n",
    "\n"
   ]
  },
  {
   "cell_type": "code",
   "execution_count": 12,
   "metadata": {
    "scrolled": true
   },
   "outputs": [
    {
     "name": "stdout",
     "output_type": "stream",
     "text": [
      "list3= ['Google', 'Runoob', 1997, 2000, 1, 2, 3, 4, 5]\n",
      "list4= ['Google', 'Runoob', 1997, 2000, 'Google', 'Runoob', 1997, 2000]\n"
     ]
    }
   ],
   "source": [
    "list1 = ['Google', 'Runoob', 1997, 2000]\n",
    "list2 = [1, 2, 3, 4, 5 ]\n",
    "list3 = list1 + list2\n",
    "list4 = list1*2\n",
    "print('list3=',list3)\n",
    "print('list4=',list4)\n",
    "\n",
    "\n"
   ]
  },
  {
   "cell_type": "code",
   "execution_count": 11,
   "metadata": {},
   "outputs": [
    {
     "name": "stdout",
     "output_type": "stream",
     "text": [
      "True\n",
      "False\n",
      "True\n",
      "True\n",
      "True\n",
      "True\n"
     ]
    }
   ],
   "source": [
    "s = \"I love python.\"\n",
    "print(\"python\" in s)\n",
    "print(\"you\" in s)\n",
    "\n",
    "values = [\"Bill\", False, 20,1]\n",
    "print(\"Bill\" in values)\n",
    "print(False in values)\n",
    "print(True in values)\n",
    "print(20 in values)"
   ]
  },
  {
   "cell_type": "code",
   "execution_count": null,
   "metadata": {},
   "outputs": [],
   "source": [
    "account = [\n",
    "    [\"geekori\",\"123456\"],\n",
    "    [\"bill\", \"54321\"],\n",
    "    [\"superman\", 456]\n",
    "    ]\n",
    "username = input(\"账号：\")\n",
    "password = input(\"密码：\")\n",
    "if [username, password] in account:\n",
    "    print(\"登录成功！\")\n",
    "else:\n",
    "    print(\"登录失败！\")"
   ]
  },
  {
   "cell_type": "code",
   "execution_count": 7,
   "metadata": {},
   "outputs": [
    {
     "name": "stdout",
     "output_type": "stream",
     "text": [
      "1 2 3 Google\n",
      "Runoob\n",
      "1997\n",
      "2000\n"
     ]
    }
   ],
   "source": [
    "for x in [1, 2, 3]: \n",
    "    print(x, end=\" \")\n",
    "list1 = ['Google', 'Runoob', 1997, 2000]\n",
    "for x in list1: \n",
    "    print(x)"
   ]
  },
  {
   "cell_type": "code",
   "execution_count": 14,
   "metadata": {},
   "outputs": [
    {
     "name": "stdout",
     "output_type": "stream",
     "text": [
      "--------append方法---------\n",
      "[1, 2, 3, 4, 5, 20]\n",
      "[1, 2, 3, 4, 5, 20, 'hello', [1, 2, 3]]\n",
      "---------clear方法---------\n",
      "['Bill', 'Mary']\n",
      "[]\n",
      "----------copy方法----------\n",
      "[1, 2, 3, 'hello', 5]\n",
      "[1, 2, 3, 4, 5]\n",
      "[1, 2, 3, 4, 5]\n",
      "----------count方法-----------\n",
      "3\n",
      "2\n",
      "0\n"
     ]
    }
   ],
   "source": [
    "# 列表方法\n",
    "'''\n",
    "1. append：在列表最后插入新的值\n",
    "2. clear：用于清除列表的内容\n",
    "3. copy：用于复制一个列表\n",
    "4. count：用于统计某个元素在列表中出现的次数\n",
    "5. extend：用于在列表结尾插入另一个列表，也就是让两个列表首尾相接。\n",
    "   该方法改变的是被扩展的列表。 list1.extend(list2),列表的相加创建一个新的列表\n",
    "6. index：用于从列表中找出某个值第一次出现的索引位置\n",
    "7. insert：用于将值插入到列表中的指定位置\n",
    "8. pop：用于移除列表中的元素（默认是最后一个元素），并返回该元素的值\n",
    "9. remove：用于移除列表中某个值的第一次匹配项\n",
    "10. reverse：用于将列表中的元素反向存放\n",
    "11. sort：用于对列表进行排序，调用该方法会改变原来的列表\n",
    "'''\n",
    "print(\"--------append方法---------\")\n",
    "numbers = [1,2,3,4,5]\n",
    "numbers.append(20)\n",
    "print(numbers)\n",
    "numbers.append(\"hello\")\n",
    "numbers.append([1,2,3])\n",
    "print(numbers)\n",
    "\n",
    "print(\"---------clear方法---------\")\n",
    "names = [\"Bill\", \"Mary\"]\n",
    "print(names)\n",
    "names.clear()\n",
    "print(names)\n",
    "\n",
    "print(\"----------copy方法----------\")\n",
    "a = [1,2,3,4,5]\n",
    "acopy = a\n",
    "acopy1 = a[:]\n",
    "acopy2 = a.copy()\n",
    "a[3] = \"hello\"\n",
    "print(acopy)\n",
    "print(acopy1)\n",
    "print(acopy2)\n",
    "\n",
    "print(\"----------count方法-----------\")\n",
    "search = [\"he\", \"new\", \"he\", [1,2,3],\"he\", \"world\", \"peter\",[1,2,3]]\n",
    "# 搜素“he”在search出现的次数\n",
    "print(search.count(\"he\"))\n",
    "\n",
    "print(search.count([1,2,3]))\n",
    "\n",
    "print(search.count(20))  # 如果没有找到指定的列表元素，返回0"
   ]
  },
  {
   "cell_type": "markdown",
   "metadata": {},
   "source": [
    "## 元组类型"
   ]
  },
  {
   "cell_type": "code",
   "execution_count": null,
   "metadata": {},
   "outputs": [],
   "source": [
    "#创建元组：\n",
    "##通常用()定义：\n",
    "tup1 = ('Google', 'Runoob', 1997, 2000)\n",
    "tup2 = (1, 2, 3, 4, 5 )\n",
    "##不需要括号也可以：\n",
    "tup3 = \"a\", \"b\", \"c\", \"d\"  \n",
    "##创建空元组：\n",
    "tup4 = ()\n",
    "##元组中只包含一个元素时，需要在元素后面添加逗号：\n",
    "tup5 = (50)\n",
    "print(tup5,type(tup5))\n",
    "tup5 = (50,)\n",
    "print(tup5,type(tup5))"
   ]
  },
  {
   "cell_type": "code",
   "execution_count": null,
   "metadata": {
    "scrolled": true
   },
   "outputs": [],
   "source": [
    "list1= ['Google', 'Taobao', 'Runoob', 'Baidu']\n",
    "print(list1)\n",
    "print(type(list1))\n",
    "tuple1=tuple(list1) \n",
    "print(tuple1)\n",
    "print(type(tuple1))"
   ]
  },
  {
   "cell_type": "markdown",
   "metadata": {},
   "source": [
    "## 字典类型"
   ]
  },
  {
   "cell_type": "code",
   "execution_count": null,
   "metadata": {},
   "outputs": [],
   "source": [
    "dict1 = {'Alice': '2341', 'Beth': '9102', 'Cecil': '3258'}\n",
    "dict2 = { 'abc': 123, 98.6: 37 }\n",
    "dict3 = {'Name': 'Runoob', 'Age': 7, 'Name': '小菜鸟'}\n",
    "tup1 = (\"id1\",\"id2\")\n",
    "dict = {tup1[0]:100,tup1[1]:200}\n"
   ]
  },
  {
   "cell_type": "code",
   "execution_count": null,
   "metadata": {},
   "outputs": [],
   "source": [
    "dict = {'Name': 'wang', 'Age': 7, 'Class': 'First'}\n",
    "print (\"dict[‘Name’]: \", dict['Name']) \n",
    "print ('dict[‘Age’]:', dict['Age'])\n"
   ]
  },
  {
   "cell_type": "code",
   "execution_count": null,
   "metadata": {},
   "outputs": [],
   "source": [
    "dict = {'Name': 'wang', 'Age': 7, 'Class': 'First'} \n",
    "dict['Age'] = 8;                                 # 更新 Age\n",
    "dict['School'] = \"联通学院\"              # 添加信息\n",
    "print(dict)\n",
    "print(\"dict['Age']: \", dict['Age'])\n",
    "print(\"dict['School']: \",dict['School'])\n"
   ]
  },
  {
   "cell_type": "code",
   "execution_count": 27,
   "metadata": {},
   "outputs": [
    {
     "name": "stdout",
     "output_type": "stream",
     "text": [
      "{'Bill': '4321', 'Mike': '7891', 'John': '4567'}\n",
      "{'name': 'Bill', 'number': 6543, 'age': 34}\n",
      "请输入Key：a\n",
      "请输入value：1\n",
      "请输入Key：b\n",
      "请输入value：2\n",
      "请输入Key：c\n",
      "请输入value：3\n",
      "请输入Key：:exit\n",
      "[['a', '1'], ['b', '2'], ['c', '3']]\n",
      "{'a': '1', 'b': '2', 'c': '3'}\n"
     ]
    }
   ],
   "source": [
    "# 使用dict函数将序列转换为字典\n",
    "\n",
    "items = [['Bill',\"4321\"],(\"Mike\",\"7891\"),['John','4567']]\n",
    "d = dict(items)\n",
    "print(d)\n",
    "\n",
    "dict1 = dict(name=\"Bill\", number=6543, age=34)\n",
    "print(dict1)\n",
    "\n",
    "items = []\n",
    "while True:\n",
    "    key = input(\"请输入Key：\")\n",
    "    if key == \":exit\":\n",
    "        break;\n",
    "    value = input(\"请输入value：\")\n",
    "    keyValue = [key,value]\n",
    "    items.append(keyValue)\n",
    "\n",
    "print(items)\n",
    "d = dict(items)\n",
    "print(d)\n"
   ]
  },
  {
   "cell_type": "code",
   "execution_count": 25,
   "metadata": {},
   "outputs": [
    {
     "name": "stdout",
     "output_type": "stream",
     "text": [
      "{1: 100, 2: 100, 3: 100, 4: 100, 5: 100}\n",
      "{'a': 100, 'b': 100, 'c': 100, 'd': 100, 'e': 100, 'f': 100}\n"
     ]
    }
   ],
   "source": [
    "tuple1 = (1,2,3,4,5)\n",
    "print(dict.fromkeys(tuple1,100))\n",
    "\n",
    "str1 = \"abcdef\"\n",
    "print(dict.fromkeys(str1,100))"
   ]
  },
  {
   "cell_type": "code",
   "execution_count": 28,
   "metadata": {},
   "outputs": [
    {
     "name": "stdout",
     "output_type": "stream",
     "text": [
      "{'Name': 'wang', 'Age': 7, 'Class': 'First'}\n",
      "{'Name': 'wang', 'Age': 7, 'Class': 'First'}\n",
      "{'Name': 'wang', 'Age': 7, 'Class': 'First'}\n",
      "{'Name': 'li', 'Age': 7, 'Class': 'First'}\n",
      "{'Name': 'li', 'Age': 7, 'Class': 'First'}\n",
      "{'Name': 'wang', 'Age': 7, 'Class': 'First'}\n"
     ]
    }
   ],
   "source": [
    "#浅复制、深复制\n",
    "\n",
    "dict1 = {'Name': 'wang', 'Age': 7, 'Class': 'First'} \n",
    "dict2 = dict1\n",
    "dict3 = dict1.copy()\n",
    "print(dict1)\n",
    "print(dict2)\n",
    "print(dict3)\n",
    "dict2['Name'] = 'li'\n",
    "print(dict1)\n",
    "print(dict2)\n",
    "print(dict3)\n",
    "\n"
   ]
  },
  {
   "cell_type": "code",
   "execution_count": null,
   "metadata": {},
   "outputs": [],
   "source": [
    "# copy方法与deepcopy函数\n",
    "person1 = {\"name\":\"Bill\", \"age\":30, \"fullName\":[\"Bill\",\"Gates\"]}\n",
    "\n",
    "person2 = person1.copy()\n",
    "print('person2' , person2)\n",
    "\n",
    "person1[\"age\"] = 60\n",
    "print('person1' , person1)\n",
    "\n",
    "print('person2' , person2)\n",
    "\n",
    "person1[\"fullName\"][1] = \"Clinton\"\n",
    "print('person1' , person1)\n",
    "print('person2' , person2)\n",
    "\n",
    "from copy import deepcopy\n",
    "person1 = {\"name\":\"Bill\", \"age\":30, \"fullName\":[\"Bill\",\"Gates\"]}\n",
    "\n",
    "person2 = deepcopy(person1)\n",
    "\n",
    "person1[\"fullName\"][1] = \"Clinton\"\n",
    "print(\"person1\", person1)\n",
    "print(\"person2\", person2)"
   ]
  },
  {
   "cell_type": "code",
   "execution_count": 30,
   "metadata": {},
   "outputs": [
    {
     "name": "stdout",
     "output_type": "stream",
     "text": [
      "x= [1, ['a', 'b', 'c'], [1, 2, 3]]\n",
      "y= [1, ['a', 'b', 'c'], [1, 2, 3]]\n",
      "z= [1, ['a', 'b', 'c'], [1, 2, 3]]\n",
      "x= [2, ['a', 'b', 'c'], [1, 2, 3]]\n",
      "y= [2, ['a', 'b', 'c'], [1, 2, 3]]\n",
      "z= [1, ['a', 'b', 'c'], [1, 2, 3]]\n",
      "x= [2, [1, 'b', 'c'], [1, 2, 3]]\n",
      "y= [2, [1, 'b', 'c'], [1, 2, 3]]\n",
      "z= [1, [1, 'b', 'c'], [1, 2, 3]]\n",
      "x= [2, [2, 'b', 'c'], [1, 2, 3]]\n",
      "y= [2, [2, 'b', 'c'], [1, 2, 3]]\n",
      "d= [2, [1, 'b', 'c'], [1, 2, 3]]\n"
     ]
    }
   ],
   "source": [
    "#浅复制、深复制\n",
    "\n",
    "a = ['a', 'b', 'c']\n",
    "n = [1, 2, 3]\n",
    "x = [1,a, n]\n",
    "y = x\n",
    "z = x.copy()\n",
    "print('x=',x)\n",
    "print('y=',y)\n",
    "print('z=',z)\n",
    "y[0] = 2\n",
    "print('x=',x)\n",
    "print('y=',y)\n",
    "print('z=',z)\n",
    "y[1][0] = 1\n",
    "print('x=',x)\n",
    "print('y=',y)\n",
    "print('z=',z)\n",
    "from copy import deepcopy\n",
    "d = deepcopy(x)\n",
    "y[1][0] = 2\n",
    "print('x=',x)\n",
    "print('y=',y)\n",
    "print('d=',d)"
   ]
  },
  {
   "cell_type": "code",
   "execution_count": null,
   "metadata": {},
   "outputs": [],
   "source": [
    "# clear方法\n",
    "names1 = {\"Bill\":20, \"Mike\":30,\"John\":50}\n",
    "names2 = names1\n",
    "names1[\"Bill\"] = 45\n",
    "print(names2)\n",
    "\n",
    "#names1 = {}\n",
    "names1.clear()\n",
    "print(names2)"
   ]
  },
  {
   "cell_type": "code",
   "execution_count": null,
   "metadata": {},
   "outputs": [],
   "source": [
    "# get方法\n",
    "dict = {\"name\":\"Bill\", \"age\":30}\n",
    "print(dict[\"age\"])\n",
    "#dict['salary'] = 3000\n",
    "#print(dict['salary'])\n",
    "print(dict.get('salary', 3000))\n",
    "\n",
    "d  = {'help':'帮助', 'bike':'自行车','geek':'极客', 'China':'中国'}\n",
    "while True:\n",
    "    word = input('请输入英文单词：')\n",
    "    if word == ':exit':\n",
    "        break;\n",
    "    value = d.get(word)\n",
    "    if value == None:\n",
    "        print('{}在字典中不存在.'.format(word))\n",
    "    else:\n",
    "        print('\"{}\"的含义是\"{}\"'.format(word,value))"
   ]
  },
  {
   "cell_type": "code",
   "execution_count": 31,
   "metadata": {},
   "outputs": [
    {
     "name": "stdout",
     "output_type": "stream",
     "text": [
      "{'name': 'Bill', 'age': 50, 'salary': 2000}\n",
      "中国\n",
      "{'name': 'Bill', 'age': 50, 'salary': 2000, 'location': '中国'}\n",
      "中国\n",
      "{'name': 'Bill', 'age': 50, 'salary': 2000, 'location': '中国'}\n",
      "None\n",
      "{'name': 'Bill', 'age': 50, 'salary': 2000, 'location': '中国', 'abc': None}\n"
     ]
    }
   ],
   "source": [
    "# setdefault方法\n",
    "\n",
    "d = {\"name\":\"Bill\", \"age\":30}\n",
    "d['salary'] = 2000\n",
    "d['age'] = 50\n",
    "print(d)\n",
    "\n",
    "# None\n",
    "print(d.setdefault(\"location\",\"中国\"))\n",
    "print(d)\n",
    "print(d.setdefault(\"location\", \"德国\"))\n",
    "print(d)\n",
    "\n",
    "print(d.setdefault(\"abc\"))\n",
    "print(d)\n"
   ]
  },
  {
   "cell_type": "code",
   "execution_count": null,
   "metadata": {},
   "outputs": [],
   "source": [
    "# pop方法和popitem方法\n",
    "\n",
    "# pop方法，用于获取指定的key的值，并从字典中弹出这个key-value对\n",
    "# popitem方法用于返回字典中最后一个key-value对，并弹出key-value对\n",
    "\n",
    "d = {'c':10,'a':40,'b':12,'x':45}\n",
    "d['1'] = 20\n",
    "d['5'] = 100\n",
    "\n",
    "print(d.pop('a'))\n",
    "print(d)\n",
    "\n",
    "for i in range(len(d)):\n",
    "    print(d.popitem())\n",
    "\n",
    "print(d)"
   ]
  },
  {
   "cell_type": "code",
   "execution_count": 32,
   "metadata": {},
   "outputs": [
    {
     "name": "stdout",
     "output_type": "stream",
     "text": [
      "{'title': '欧瑞科技', 'website': 'https://geekori.com', 'description': '从事在线IT课程研发和销售，工具软件研发', 'products': ['欧瑞学院', '博客', '读书频道', '极客题库', 'OriUnity']}\n"
     ]
    }
   ],
   "source": [
    "# update方法\n",
    "# 用一个字典中的key-value对更新另外一个字典，该方法接收一个参数\n",
    "# 用作数据源的字典\n",
    "# dict1.update(dict2)\n",
    "\n",
    "d1 = {\n",
    "    'title':'欧瑞学院',\n",
    "    'website':'https://geekori.com',\n",
    "    'description':'从事在线IT课程研发和销售'    \n",
    "}\n",
    "\n",
    "d2 = {\n",
    "    'title':'欧瑞科技',\n",
    "    'products':['欧瑞学院','博客','读书频道','极客题库','OriUnity'],\n",
    "    'description':'从事在线IT课程研发和销售，工具软件研发'\n",
    "    }\n",
    "d1.update(d2)\n",
    "print(d1)"
   ]
  },
  {
   "cell_type": "code",
   "execution_count": 33,
   "metadata": {},
   "outputs": [
    {
     "name": "stdout",
     "output_type": "stream",
     "text": [
      "dict_items([('help', '帮助'), ('bike', '自行车'), ('plane', '飞机'), ('China', '中国')])\n",
      "key = help value = 帮助\n",
      "key = bike value = 自行车\n",
      "key = plane value = 飞机\n",
      "key = China value = 中国\n",
      "help = 帮助\n",
      "bike = 自行车\n",
      "plane = 飞机\n",
      "China = 中国\n",
      "True\n",
      "dict_items([('help', '帮助'), ('bike', '自行车；摩托车；电动自行车'), ('plane', '飞机'), ('China', '中国')])\n",
      "dict_keys(['help', 'bike', 'plane', 'China'])\n"
     ]
    },
    {
     "ename": "TypeError",
     "evalue": "'list' object is not callable",
     "output_type": "error",
     "traceback": [
      "\u001b[1;31m---------------------------------------------------------------------------\u001b[0m",
      "\u001b[1;31mTypeError\u001b[0m                                 Traceback (most recent call last)",
      "\u001b[1;32m<ipython-input-33-2926effa9eef>\u001b[0m in \u001b[0;36m<module>\u001b[1;34m()\u001b[0m\n\u001b[0;32m     15\u001b[0m \u001b[1;33m\u001b[0m\u001b[0m\n\u001b[0;32m     16\u001b[0m \u001b[0mprint\u001b[0m\u001b[1;33m(\u001b[0m\u001b[0md\u001b[0m\u001b[1;33m.\u001b[0m\u001b[0mkeys\u001b[0m\u001b[1;33m(\u001b[0m\u001b[1;33m)\u001b[0m\u001b[1;33m)\u001b[0m\u001b[1;33m\u001b[0m\u001b[0m\n\u001b[1;32m---> 17\u001b[1;33m \u001b[0mprint\u001b[0m\u001b[1;33m(\u001b[0m\u001b[0mlist\u001b[0m\u001b[1;33m(\u001b[0m\u001b[0md\u001b[0m\u001b[1;33m.\u001b[0m\u001b[0mkeys\u001b[0m\u001b[1;33m(\u001b[0m\u001b[1;33m)\u001b[0m\u001b[1;33m)\u001b[0m\u001b[1;33m)\u001b[0m\u001b[1;33m\u001b[0m\u001b[0m\n\u001b[0m\u001b[0;32m     18\u001b[0m \u001b[1;32mfor\u001b[0m \u001b[0mkey\u001b[0m \u001b[1;32min\u001b[0m \u001b[0md\u001b[0m\u001b[1;33m.\u001b[0m\u001b[0mkeys\u001b[0m\u001b[1;33m(\u001b[0m\u001b[1;33m)\u001b[0m\u001b[1;33m:\u001b[0m\u001b[1;33m\u001b[0m\u001b[0m\n\u001b[0;32m     19\u001b[0m     \u001b[0mprint\u001b[0m\u001b[1;33m(\u001b[0m\u001b[0mkey\u001b[0m\u001b[1;33m)\u001b[0m\u001b[1;33m\u001b[0m\u001b[0m\n",
      "\u001b[1;31mTypeError\u001b[0m: 'list' object is not callable"
     ]
    }
   ],
   "source": [
    "# items方法和keys方法、values方法\n",
    "d = {'help':'帮助','bike':'自行车','plane':'飞机','China':'中国'}\n",
    "print(d.items())\n",
    "\n",
    "for key_value in d.items():\n",
    "    print(\"key\",\"=\",key_value[0],\"value\",\"=\",key_value[1])\n",
    "for key,value in d.items():\n",
    "    print(\"{} = {}\".format(key,value))\n",
    "\n",
    "print(('bike','自行车') in d.items())\n",
    "\n",
    "dict_items = d.items()\n",
    "d['bike'] = '自行车；摩托车；电动自行车'\n",
    "print(dict_items)\n",
    "\n",
    "print(d.keys())\n",
    "print(list(d.keys()))\n",
    "for key in d.keys():\n",
    "    print(key)\n",
    "\n",
    "# values方法\n",
    "\n",
    "d = {\n",
    "    'a':1,\n",
    "    'b':2,\n",
    "    'c':2,\n",
    "    'd':3,\n",
    "    'e':4,\n",
    "    'e':40\n",
    "}\n",
    "print(d)\n",
    "print(d.values())"
   ]
  },
  {
   "cell_type": "code",
   "execution_count": null,
   "metadata": {},
   "outputs": [],
   "source": []
  },
  {
   "cell_type": "markdown",
   "metadata": {},
   "source": [
    "## 集合"
   ]
  },
  {
   "cell_type": "code",
   "execution_count": null,
   "metadata": {},
   "outputs": [],
   "source": [
    "basket = {'apple', 'orange', 'apple', 'pear', 'orange', 'banana'}\n",
    "print(basket)                      # 这里演示的是去重功能\n",
    "a = set('abracadabra')\n",
    "print(a)\n"
   ]
  },
  {
   "cell_type": "code",
   "execution_count": null,
   "metadata": {
    "scrolled": true
   },
   "outputs": [],
   "source": [
    "a = set('abracadabra')\n",
    "b = set('alacazam')\n",
    "print(a - b)                              # 集合a中包含而集合b中不包含的元素\n",
    "print(a | b )                             # 集合a或b中包含的所有元素\n",
    "print(a & b  )                           # 集合a和b中都包含了的元素\n",
    "print(a ^ b )                            # 不同时包含于a和b的元素\n"
   ]
  },
  {
   "cell_type": "code",
   "execution_count": null,
   "metadata": {},
   "outputs": [],
   "source": [
    "thisset = set((\"Google\", \"Runoob\", \"Taobao\"))\n",
    "thisset.add(\"Facebook\")\n",
    "print(thisset)\n",
    "thisset.update({1,3})\n",
    "print(thisset)\n",
    "thisset.update({1,3},{2,4})\n",
    "print(thisset)\n",
    "thisset.update([(7,8),(5,6)])    \n",
    "print(thisset)\n"
   ]
  },
  {
   "cell_type": "code",
   "execution_count": null,
   "metadata": {},
   "outputs": [],
   "source": [
    "thisset = set((\"Google\", \"Runoob\", \"Taobao\"))\n",
    "thisset.remove(\"Taobao\")\n",
    "#thisset.remove(\"Facebook\")      # 不存在会发生错误\n",
    "thisset.discard(\"Facebook\")       # 不存在不会发生错误\n",
    "print(thisset)\n",
    "x = thisset.pop()\n",
    "print(x)\n",
    "print(thisset)\n"
   ]
  },
  {
   "cell_type": "code",
   "execution_count": null,
   "metadata": {
    "scrolled": false
   },
   "outputs": [],
   "source": [
    "thisset = set((\"Google\", \"Runoob\", \"Taobao\"))\n",
    "thisset.clear()\n",
    "print(thisset)\n"
   ]
  }
 ],
 "metadata": {
  "kernelspec": {
   "display_name": "Python 3",
   "language": "python",
   "name": "python3"
  },
  "language_info": {
   "codemirror_mode": {
    "name": "ipython",
    "version": 3
   },
   "file_extension": ".py",
   "mimetype": "text/x-python",
   "name": "python",
   "nbconvert_exporter": "python",
   "pygments_lexer": "ipython3",
   "version": "3.7.0"
  }
 },
 "nbformat": 4,
 "nbformat_minor": 2
}
