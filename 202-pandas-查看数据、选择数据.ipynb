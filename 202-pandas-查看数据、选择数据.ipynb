{
 "cells": [
  {
   "cell_type": "markdown",
   "metadata": {},
   "source": [
    "## 查看数据"
   ]
  },
  {
   "cell_type": "code",
   "execution_count": null,
   "metadata": {},
   "outputs": [],
   "source": [
    "import pandas as pd\n",
    "import numpy as np\n",
    "dates=pd.date_range('20190310',periods=6,freq='D')\n",
    "df = pd.DataFrame(np.random.randn(6,4), index=dates, columns=['A','B','C','D'])#生成6行4列位置\n",
    "print(df)#输出6行4列的表格\n",
    "\n",
    "#数据的形状、大小\n",
    "df.shape\n"
   ]
  },
  {
   "cell_type": "code",
   "execution_count": null,
   "metadata": {},
   "outputs": [],
   "source": [
    "#列数据的类型\n",
    "print(df.dtypes)\n",
    "print('--------------------------')\n",
    "print(type(df))\n",
    "print('--------------------------')\n",
    "print(df[\"A\"].dtypes)\n",
    "print('--------------------------')\n",
    "print(type(df[\"A\"]))"
   ]
  },
  {
   "cell_type": "code",
   "execution_count": null,
   "metadata": {},
   "outputs": [],
   "source": [
    "#数据的列名\n",
    "df.columns   "
   ]
  },
  {
   "cell_type": "code",
   "execution_count": null,
   "metadata": {},
   "outputs": [],
   "source": [
    "#数据的描述,查看数据大体信息，字段类型、是否有空行等\n",
    "df.info()"
   ]
  },
  {
   "cell_type": "code",
   "execution_count": null,
   "metadata": {},
   "outputs": [],
   "source": [
    "#数据的描述,查看数据大体信息:列中数据的值计数，平均值，标准差，最小值，最大值以及第 25，第 50和第75的中位数.\n",
    "#方差公式：s^2=[(x1-x)^2 +...(xn-x)^2]/n；标准差公式：s=sqrt(s^2)\n",
    "df1 = pd.DataFrame([[1,1,1,1],[2,2,2,2],[3,3,3,3],[4,4,4,4],[5,5,5,5],[6,6,6,6]], columns=['A','B','C','D'])#生成6行4列位置\n",
    "print(df1)\n",
    "print(df1.describe())"
   ]
  },
  {
   "cell_type": "code",
   "execution_count": null,
   "metadata": {},
   "outputs": [],
   "source": [
    "column_name=['id','var1','var2','var3','var4','var5']  #使用列表创建列名 \n",
    "df=pd.DataFrame(np.arange(3600).reshape(600,6),columns=column_name) \n",
    "\n",
    "print(df)#输出6行4列的表格\n",
    "print('---------------------------------------------------------')\n",
    "\n",
    "# 查询数据的前部分\n",
    "print('df.head()  \\n',df.head())   #参数为空，默认显示前5行\n",
    "\n",
    "print('df.head(15)  \\n',df.head(15))\n",
    "\n",
    "# df.tail()查询数据的尾部 用法与df.head()相同\n",
    "print('df.tail()  \\n',df.tail())   #参数为空，默认显示后5行\n",
    "\n"
   ]
  },
  {
   "cell_type": "code",
   "execution_count": null,
   "metadata": {},
   "outputs": [],
   "source": [
    "\n",
    "df1 = pd.DataFrame([[1,1,1,1],[2,2,2,2],[3,3,3,3],[4,4,4,4],[5,5,5,5],[6,6,6,6]], columns=['A','B','C','D'])#生成6行4列位置\n",
    "print(df1)\n",
    "#行的序号\n",
    "print(df1.index)\n",
    "#列的序号名字\n",
    "print(df1.columns)\n",
    "#把每个值进行打印出来\n",
    "print(df1.values)"
   ]
  },
  {
   "cell_type": "code",
   "execution_count": null,
   "metadata": {},
   "outputs": [],
   "source": [
    "print(df1.mean())   # 列平均值\n",
    "#print(type(df.mean()))\n",
    "print(df1.std())   # 列标准差值\n",
    "\n",
    "print(df1[\"A\"].mean())   # \"A\"列平均值"
   ]
  },
  {
   "cell_type": "code",
   "execution_count": null,
   "metadata": {},
   "outputs": [],
   "source": [
    "print(df.mean(1))   # 行平均值\n",
    "print('--------------------------------------')\n",
    "print(df.std(1))    # 行标准差值"
   ]
  },
  {
   "cell_type": "markdown",
   "metadata": {},
   "source": [
    "## 选择数据"
   ]
  },
  {
   "cell_type": "code",
   "execution_count": null,
   "metadata": {},
   "outputs": [],
   "source": [
    "import numpy as np\n",
    "import pandas as pd\n",
    "\n",
    "dates=pd.date_range('20190310',periods=6,freq='D')\n",
    "column_name=['var1','var2','var3','var4','var5','var6']\n",
    "df = pd.DataFrame(np.random.randn(6,6), index=dates, columns=column_name)#生成6行4列位置\n",
    "\n",
    "print(df)#输出6行4列的表格\n",
    "print('---------------------------------------------------------')"
   ]
  },
  {
   "cell_type": "code",
   "execution_count": null,
   "metadata": {},
   "outputs": [],
   "source": [
    "# 选择某一列\n",
    "df['var1']"
   ]
  },
  {
   "cell_type": "code",
   "execution_count": null,
   "metadata": {
    "scrolled": true
   },
   "outputs": [],
   "source": [
    "# 选择某几列\n",
    "df[['var1','var2']]"
   ]
  },
  {
   "cell_type": "code",
   "execution_count": null,
   "metadata": {},
   "outputs": [],
   "source": [
    "# 选择某几行\n",
    "df[0:3]"
   ]
  },
  {
   "cell_type": "code",
   "execution_count": null,
   "metadata": {},
   "outputs": [],
   "source": [
    "#根据标签loc-行标签进行选择数据\n",
    "df.loc['2019-03-10',['var1','var2']]"
   ]
  },
  {
   "cell_type": "code",
   "execution_count": null,
   "metadata": {},
   "outputs": [],
   "source": [
    "#根据序列iloc-行号进行选择数据\n",
    "print(df.iloc[3, 1])#输出第三行第一列的数据\n",
    "print(df.iloc[3:5,0:2])#进行切片选择\n",
    "print(df.iloc[[1,2,4],[0,2]])#进行不连续筛选"
   ]
  },
  {
   "cell_type": "code",
   "execution_count": null,
   "metadata": {},
   "outputs": [],
   "source": [
    "# 根据混合的两种ix\n",
    "print(df.ix[:3, ['var1', 'var2']])"
   ]
  },
  {
   "cell_type": "code",
   "execution_count": null,
   "metadata": {},
   "outputs": [],
   "source": []
  },
  {
   "cell_type": "code",
   "execution_count": null,
   "metadata": {},
   "outputs": [],
   "source": [
    "# 根据条件选择\n",
    "df.loc[(df.var1>1) & (df.var1<2)]  # 选择id列中大于1，小于2 的数据"
   ]
  },
  {
   "cell_type": "code",
   "execution_count": null,
   "metadata": {},
   "outputs": [],
   "source": [
    "# 根据条件选择\n",
    "df[(df.var1>1) & (df.var1<2)]  # 选择id列中大于1，小于2 的数据"
   ]
  },
  {
   "cell_type": "code",
   "execution_count": null,
   "metadata": {},
   "outputs": [],
   "source": [
    "# 根据条件选择\n",
    "df.loc[(df.var1>1) & (df.var1<2),['var1','var5']]  # 选择id列中大于100，小于150 的数据,，并且只展示某几列"
   ]
  },
  {
   "cell_type": "code",
   "execution_count": null,
   "metadata": {},
   "outputs": [],
   "source": [
    "import pandas\n",
    "scientists = pandas.read_csv('../data/scientists.csv')\n",
    "ages = scientists['Age']\n",
    "print(ages)\n",
    "print('-------------1-----------------------')\n",
    "print(ages.describe())\n",
    "print('-------------2-----------------------')\n",
    "print(ages[ages > ages.mean()])\n",
    "print('-------------3-----------------------')\n",
    "print(ages > ages.mean())\n",
    "print('-------------4-----------------------')\n",
    "print(type(ages > ages.mean()))\n",
    "print('-------------5-----------------------')\n",
    "print(ages[[True,True,False,True,False,True,True,False]])"
   ]
  },
  {
   "cell_type": "markdown",
   "metadata": {},
   "source": [
    "## Pandas设置数据"
   ]
  },
  {
   "cell_type": "code",
   "execution_count": 1,
   "metadata": {},
   "outputs": [
    {
     "name": "stdout",
     "output_type": "stream",
     "text": [
      "             A   B   C   D\n",
      "2018-03-10   0   1   2   3\n",
      "2018-03-11   4   5   6   7\n",
      "2018-03-12   8   9  10  11\n",
      "2018-03-13  12  13  14  15\n",
      "2018-03-14  16  17  18  19\n",
      "2018-03-15  20  21  22  23\n"
     ]
    }
   ],
   "source": [
    "import numpy as np\n",
    "import pandas as pd\n",
    "dates = pd.date_range('20180310', periods=6)\n",
    "df = pd.DataFrame(np.arange(24).reshape((6,4)), index=dates, columns=['A', 'B', 'C', 'D'])\n",
    "print(df)"
   ]
  },
  {
   "cell_type": "code",
   "execution_count": null,
   "metadata": {},
   "outputs": [],
   "source": [
    "#根据loc和iloc设置\n",
    "df.iloc[2,2] = 999#单点设置\n",
    "df.loc['2018-03-13', 'D'] = 999\n",
    "print(df)"
   ]
  },
  {
   "cell_type": "code",
   "execution_count": null,
   "metadata": {},
   "outputs": [],
   "source": [
    "#根据条件设置\n",
    "df[df.A>0]=999  #将df.A大于0的值改变\n",
    "print(df)"
   ]
  },
  {
   "cell_type": "code",
   "execution_count": 4,
   "metadata": {},
   "outputs": [
    {
     "name": "stdout",
     "output_type": "stream",
     "text": [
      "             A   B   C   D   E   F\n",
      "2018-03-10   0   1   2   3 NaN NaN\n",
      "2018-03-11   4   5   6   7 NaN NaN\n",
      "2018-03-12   8   9  10  11 NaN NaN\n",
      "2018-03-13  12  13  14  15 NaN NaN\n",
      "2018-03-14  16  17  18  19 NaN NaN\n",
      "2018-03-15  20  21  22  23 NaN NaN\n"
     ]
    }
   ],
   "source": [
    "#根据行或列设置\n",
    "\n",
    "df['F']=np.nan\n",
    "print(df)"
   ]
  },
  {
   "cell_type": "code",
   "execution_count": 3,
   "metadata": {},
   "outputs": [
    {
     "name": "stdout",
     "output_type": "stream",
     "text": [
      "             A   B   C   D    E\n",
      "2018-03-10   0   1   2   3  NaN\n",
      "2018-03-11   4   5   6   7  NaN\n",
      "2018-03-12   8   9  10  11  NaN\n",
      "2018-03-13  12  13  14  15  1.0\n",
      "2018-03-14  16  17  18  19  2.0\n",
      "2018-03-15  20  21  22  23  3.0\n",
      "--------------------------------------------\n",
      "             A   B   C   D   E\n",
      "2018-03-10   0   1   2   3 NaN\n",
      "2018-03-11   4   5   6   7 NaN\n",
      "2018-03-12   8   9  10  11 NaN\n",
      "2018-03-13  12  13  14  15 NaN\n",
      "2018-03-14  16  17  18  19 NaN\n",
      "2018-03-15  20  21  22  23 NaN\n"
     ]
    }
   ],
   "source": [
    "#添加数据\n",
    "df['E']  = pd.Series([1,2,3,4,5,6], index=pd.date_range('20180313', periods=6))#增加一列\n",
    "print(df)\n",
    "\n",
    "print('--------------------------------------------')\n",
    "df['E']  = pd.Series([1,2,3,4,5,6])#增加一列\n",
    "print(df)"
   ]
  },
  {
   "cell_type": "code",
   "execution_count": 5,
   "metadata": {},
   "outputs": [
    {
     "data": {
      "text/html": [
       "<div>\n",
       "<style scoped>\n",
       "    .dataframe tbody tr th:only-of-type {\n",
       "        vertical-align: middle;\n",
       "    }\n",
       "\n",
       "    .dataframe tbody tr th {\n",
       "        vertical-align: top;\n",
       "    }\n",
       "\n",
       "    .dataframe thead th {\n",
       "        text-align: right;\n",
       "    }\n",
       "</style>\n",
       "<table border=\"1\" class=\"dataframe\">\n",
       "  <thead>\n",
       "    <tr style=\"text-align: right;\">\n",
       "      <th></th>\n",
       "      <th>A</th>\n",
       "      <th>B</th>\n",
       "      <th>C</th>\n",
       "      <th>F</th>\n",
       "    </tr>\n",
       "  </thead>\n",
       "  <tbody>\n",
       "    <tr>\n",
       "      <th>2018-03-10</th>\n",
       "      <td>0</td>\n",
       "      <td>1</td>\n",
       "      <td>2</td>\n",
       "      <td>NaN</td>\n",
       "    </tr>\n",
       "    <tr>\n",
       "      <th>2018-03-11</th>\n",
       "      <td>4</td>\n",
       "      <td>5</td>\n",
       "      <td>6</td>\n",
       "      <td>NaN</td>\n",
       "    </tr>\n",
       "    <tr>\n",
       "      <th>2018-03-12</th>\n",
       "      <td>8</td>\n",
       "      <td>9</td>\n",
       "      <td>10</td>\n",
       "      <td>NaN</td>\n",
       "    </tr>\n",
       "    <tr>\n",
       "      <th>2018-03-13</th>\n",
       "      <td>12</td>\n",
       "      <td>13</td>\n",
       "      <td>14</td>\n",
       "      <td>NaN</td>\n",
       "    </tr>\n",
       "    <tr>\n",
       "      <th>2018-03-14</th>\n",
       "      <td>16</td>\n",
       "      <td>17</td>\n",
       "      <td>18</td>\n",
       "      <td>NaN</td>\n",
       "    </tr>\n",
       "    <tr>\n",
       "      <th>2018-03-15</th>\n",
       "      <td>20</td>\n",
       "      <td>21</td>\n",
       "      <td>22</td>\n",
       "      <td>NaN</td>\n",
       "    </tr>\n",
       "  </tbody>\n",
       "</table>\n",
       "</div>"
      ],
      "text/plain": [
       "             A   B   C   F\n",
       "2018-03-10   0   1   2 NaN\n",
       "2018-03-11   4   5   6 NaN\n",
       "2018-03-12   8   9  10 NaN\n",
       "2018-03-13  12  13  14 NaN\n",
       "2018-03-14  16  17  18 NaN\n",
       "2018-03-15  20  21  22 NaN"
      ]
     },
     "execution_count": 5,
     "metadata": {},
     "output_type": "execute_result"
    }
   ],
   "source": [
    "#删除列\n",
    "df.drop([\"D\",\"E\"],axis = 1)"
   ]
  }
 ],
 "metadata": {
  "kernelspec": {
   "display_name": "Python 3",
   "language": "python",
   "name": "python3"
  },
  "language_info": {
   "codemirror_mode": {
    "name": "ipython",
    "version": 3
   },
   "file_extension": ".py",
   "mimetype": "text/x-python",
   "name": "python",
   "nbconvert_exporter": "python",
   "pygments_lexer": "ipython3",
   "version": "3.7.0"
  }
 },
 "nbformat": 4,
 "nbformat_minor": 2
}
