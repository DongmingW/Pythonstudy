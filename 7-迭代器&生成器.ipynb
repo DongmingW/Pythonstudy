{
 "cells": [
  {
   "cell_type": "code",
   "execution_count": 1,
   "metadata": {},
   "outputs": [
    {
     "name": "stdout",
     "output_type": "stream",
     "text": [
      "*\n",
      "***\n",
      "*****\n",
      "*******\n",
      "*********\n",
      "***********\n",
      "*************\n",
      "***************\n",
      "*****************\n",
      "*******************\n"
     ]
    }
   ],
   "source": [
    "# 自定义可迭代的类\n",
    "\n",
    "# for value in values:\n",
    "\n",
    "'''\n",
    "  __iter__(self)\n",
    "  \n",
    "  __next__(self)\n",
    "'''\n",
    "class RightTriangle:\n",
    "    def __init__(self):\n",
    "        self.n = 1\n",
    "    def __iter__(self):\n",
    "        return self\n",
    "    def __next__(self):\n",
    "        result = '*' * (2 * self.n - 1)\n",
    "        self.n += 1\n",
    "        return result\n",
    "rt = RightTriangle()\n",
    "for e in rt:\n",
    "    if len(e) > 20:\n",
    "        break;\n",
    "    print(e)\n",
    "\n"
   ]
  },
  {
   "cell_type": "code",
   "execution_count": 6,
   "metadata": {},
   "outputs": [
    {
     "name": "stdout",
     "output_type": "stream",
     "text": [
      "1 2 3 4 5 6 7 8 "
     ]
    }
   ],
   "source": [
    "# 生成器（Generator）\n",
    "\n",
    "# 生成器也是用于迭代的\n",
    "\n",
    "def myGenerator():\n",
    "    numList = [1,2,3,4,5,6,7,8]\n",
    "    for num in numList:\n",
    "        yield num\n",
    "for num in myGenerator():\n",
    "    print(num, end = ' ')\n",
    "    \n"
   ]
  },
  {
   "cell_type": "code",
   "execution_count": 6,
   "metadata": {},
   "outputs": [
    {
     "name": "stdout",
     "output_type": "stream",
     "text": [
      "1 1 2 6 24 120 720 5040 40320 \n",
      "362880\n",
      "1\n",
      "1\n",
      "2\n"
     ]
    }
   ],
   "source": [
    "# 练习题讲解\n",
    "'''\n",
    "1.  编写一个可以无限迭代阶乘的Python迭代器类，\n",
    "并通过for循环对这个迭代器进行迭代，迭代的最大值不能超过10000。\n",
    "'''\n",
    "\n",
    "class Factorial:\n",
    "    def __init__(self):\n",
    "        self.result = 1\n",
    "        self.n = 0\n",
    "    def __next__(self):\n",
    "        if self.n == 0 or self.n == 1:\n",
    "            self.n += 1\n",
    "            self.result = 1\n",
    "        else:\n",
    "            self.result = self.result * self.n\n",
    "            self.n += 1\n",
    "        return self.result\n",
    "    def __iter__(self):\n",
    "        return self\n",
    "    def reset(self):\n",
    "        self.result = 1\n",
    "        self.n = 0\n",
    "factorial = Factorial()\n",
    "for f in factorial:\n",
    "    print(f, end = ' ')\n",
    "    if f > 10000:\n",
    "        break;\n",
    "print()\n",
    "it = iter(factorial)\n",
    "print(next(it))\n",
    "factorial.reset()\n",
    "print(next(it))\n",
    "print(next(it))\n",
    "print(next(it))\n",
    "\n",
    "\n"
   ]
  },
  {
   "cell_type": "code",
   "execution_count": 7,
   "metadata": {},
   "outputs": [
    {
     "name": "stdout",
     "output_type": "stream",
     "text": [
      "[1, 1, 2, 6, 24, 120, 720, 5040]\n"
     ]
    }
   ],
   "source": [
    "# 练习题讲解\n",
    "'''\n",
    "2.  在第1题的基础上，将这个迭代器转换为列表。列表元素的最大值不能超过10000。\n",
    "'''\n",
    "class Factorial:\n",
    "    def __init__(self):\n",
    "        self.result = 1\n",
    "        self.n = 0\n",
    "    def __next__(self):\n",
    "        if self.n == 0 or self.n == 1:\n",
    "            self.n += 1\n",
    "            self.result = 1\n",
    "        else:\n",
    "            self.result = self.result * self.n\n",
    "            self.n += 1\n",
    "        if self.result > 10000: raise StopIteration\n",
    "        return self.result\n",
    "    def __iter__(self):\n",
    "        return self\n",
    "    def reset(self):\n",
    "        self.result = 1\n",
    "        self.n = 0\n",
    "\n",
    "factorial = Factorial()\n",
    "print(list(factorial))"
   ]
  },
  {
   "cell_type": "code",
   "execution_count": 8,
   "metadata": {},
   "outputs": [
    {
     "name": "stdout",
     "output_type": "stream",
     "text": [
      "0 1 1 2 3 5 8 13 21 34 55 89 144 233 377 "
     ]
    }
   ],
   "source": [
    "# 练习题讲解\n",
    "'''\n",
    "3. 编写一个可以无限迭代斐波那契数列的Python迭代器类，并将其转换为生成器函数，\n",
    "然后通过for循环迭代这个生成器函数，并输出迭代及结果。迭代值不能超过300。\n",
    "'''\n",
    "\n",
    "class Fibonacci:\n",
    "    def __init__(self):\n",
    "        self.a = 0\n",
    "        self.b = 1\n",
    "    def __iter__(self):\n",
    "        return self\n",
    "    def __next__(self):\n",
    "        result = self.a\n",
    "        self.a,self.b = self.b, self.a + self.b\n",
    "        if result > 500: raise StopIteration\n",
    "        return result\n",
    "def fibonacciGenerator():\n",
    "    for f in Fibonacci():\n",
    "        yield f\n",
    "for f in fibonacciGenerator():\n",
    "    print(f, end = ' ')"
   ]
  },
  {
   "cell_type": "code",
   "execution_count": null,
   "metadata": {},
   "outputs": [],
   "source": []
  }
 ],
 "metadata": {
  "kernelspec": {
   "display_name": "Python 3",
   "language": "python",
   "name": "python3"
  },
  "language_info": {
   "codemirror_mode": {
    "name": "ipython",
    "version": 3
   },
   "file_extension": ".py",
   "mimetype": "text/x-python",
   "name": "python",
   "nbconvert_exporter": "python",
   "pygments_lexer": "ipython3",
   "version": "3.7.0"
  }
 },
 "nbformat": 4,
 "nbformat_minor": 2
}
