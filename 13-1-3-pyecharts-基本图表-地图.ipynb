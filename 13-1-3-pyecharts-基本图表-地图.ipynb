{
 "cells": [
  {
   "cell_type": "markdown",
   "metadata": {},
   "source": [
    "###  Geo，Geoline，Map"
   ]
  },
  {
   "cell_type": "markdown",
   "metadata": {},
   "source": [
    "pyecharts v0.3.2以后，pyecharts 将不再自带地图 js 文件。如用户需要用到地图图表，可自行安装对应的地图文件包。\n",
    "\n",
    "地图文件被分成了多个 Python 包，分别为：\n",
    "* 全球国家地图: echarts-countries-pypkg (1.9MB)\n",
    "* 中国省级地图: echarts-china-provinces-pypkg (730KB)\n",
    "* 中国市级地图: echarts-china-cities-pypkg (3.8MB)\n",
    "* 中国乡镇地图：echarts-china-counties-pypkg\n",
    "* 中国行政区地图：pip install echarts-china-misc-pypkg\n",
    "\n",
    "pip安装：\n",
    "\n",
    "      pip install echarts-countries-pypkg \n",
    "\n",
    "      pip install echarts-china-provinces-pypkg  \n",
    "\n",
    "      pip install echarts-china-cities-pypkg \n",
    "\n",
    "\n",
    "\n",
    "选择自己需要的安装:\n",
    "\n",
    "*  pip install echarts-countries-pypkg\n",
    "\n",
    "*  pip install echarts-china-provinces-pypkg\n",
    "\n",
    "*  pip install echarts-china-cities-pypkg\n",
    "\n",
    "*  pip install echarts-china-counties-pypkg\n",
    "\n",
    "*  pip install echarts-china-misc-pypkg\n",
    "\n",
    "*  pip install echarts-united-kingdom-pypkg\n",
    "\n"
   ]
  },
  {
   "cell_type": "code",
   "execution_count": null,
   "metadata": {},
   "outputs": [],
   "source": [
    "from pyecharts import Map, Geo\n",
    "# 世界地图数据\n",
    "value = [95.1, 23.2, 43.3, 66.4, 88.5]\n",
    "attr= [\"China\", \"Canada\", \"Brazil\", \"Russia\", \"United States\"]\n",
    "\n",
    "# 省和直辖市\n",
    "province_distribution = {'河南': 45.23, '北京': 37.56, '河北': 21, '辽宁': 12, '江西': 6, '上海': 20, '安徽': 10, '江苏': 16, '湖南': 9, '浙江': 13, '海南': 2, '广东': 22, '湖北': 8, '黑龙江': 11, '澳门': 1, '陕西': 11, '四川': 7, '内蒙古': 3, '重庆': 3, '云南': 6, '贵州': 2, '吉林': 3, '山西': 12, '山东': 11, '福建': 4, '青海': 1, '舵主科技，质量保证': 1, '天津': 1, '其他': 1}\n",
    "provice=list(province_distribution.keys())\n",
    "values=list(province_distribution.values())\n",
    "\n",
    "# 城市 -- 指定省的城市 xx市\n",
    "city = ['郑州市', '安阳市', '洛阳市', '濮阳市', '南阳市', '开封市', '商丘市', '信阳市', '新乡市']\n",
    "values2 = [1.07, 3.85, 6.38, 8.21, 2.53, 4.37, 9.38, 4.29, 6.1]\n",
    "\n",
    "# 区县 -- 具体城市内的区县  xx县\n",
    "quxian = ['夏邑县', '民权县', '梁园区', '睢阳区', '柘城县', '宁陵县']\n",
    "values3 = [3, 5, 7, 8, 2, 4]\n",
    "\n"
   ]
  },
  {
   "cell_type": "code",
   "execution_count": null,
   "metadata": {
    "scrolled": true
   },
   "outputs": [],
   "source": [
    "from pyecharts import Map, Geo\n",
    "# 世界地图数据\n",
    "value = [95.1, 23.2, 43.3, 66.4, 88.5]\n",
    "attr= [\"China\", \"Canada\", \"Brazil\", \"Russia\", \"United States\"]\n",
    "\n",
    "\n",
    "map0 = Map(\"世界地图示例\", width=800, height=600)\n",
    "map0.add(\"世界地图\", attr, value, maptype=\"world\",  is_visualmap=True, visual_range=[20,100], visual_text_color='#000')\n",
    "#map0.render(\"世界地图2.html\")\n",
    "map0"
   ]
  },
  {
   "cell_type": "code",
   "execution_count": null,
   "metadata": {},
   "outputs": [],
   "source": [
    "# maptype='china' 只显示全国直辖市和省级\n",
    "# 数据只能是省名和直辖市的名称\n",
    "# 省和直辖市\n",
    "province_distribution = {'河南': 45.23, '北京': 37.56, '河北': 21, '辽宁': 12, '江西': 6, '上海': 20, '安徽': 10, '江苏': 16, '湖南': 9, '浙江': 13, '海南': 2, '广东': 22, '湖北': 8, '黑龙江': 11, '澳门': 1, '陕西': 11, '四川': 7, '内蒙古': 3, '重庆': 3, '云南': 6, '贵州': 2, '吉林': 3, '山西': 12, '山东': 11, '福建': 4, '青海': 1, '舵主科技，质量保证': 1, '天津': 1, '其他': 1}\n",
    "provice=list(province_distribution.keys())\n",
    "values=list(province_distribution.values())\n",
    "\n",
    "map = Map(\"中国地图\",'中国地图', width=800, height=600)\n",
    "map.add(\"\", provice, values, visual_range=[0, 50],  maptype='china', is_visualmap=True,visual_text_color='#000')\n",
    "\n",
    "#map.show_config()\n",
    "\n",
    "map.render(\"中国地图2.html\")\n",
    "map"
   ]
  },
  {
   "cell_type": "code",
   "execution_count": null,
   "metadata": {},
   "outputs": [],
   "source": [
    "# 河南地图  数据必须是省内放入城市名\n",
    "city = ['郑州市', '安阳市', '洛阳市', '濮阳市', '南阳市', '开封市', '商丘市', '信阳市', '新乡市']\n",
    "values2 = [1.07, 3.85, 6.38, 8.21, 2.53, 4.37, 9.38, 4.29, 6.1]\n",
    "\n",
    "map2 = Map(\"河南地图\",'河南', width=1200, height=600)\n",
    "map2.add('河南', city, values2, visual_range=[1, 10], maptype='河南', is_visualmap=True, visual_text_color='#000')\n",
    "#map2.show_config()\n",
    "map2.render(\"河南地图.html\")\n",
    "map2"
   ]
  },
  {
   "cell_type": "code",
   "execution_count": null,
   "metadata": {},
   "outputs": [],
   "source": [
    "# # 商丘地图 数据为商丘市下的区县\n",
    "\n",
    "quxian = ['夏邑县', '民权县', '梁园区', '睢阳区', '柘城县', '宁陵县']\n",
    "values3 = [3, 5, 7, 8, 2, 4]\n",
    "\n",
    "map3 = Map(\"商丘地图\",'商丘', width=1200, height=600)\n",
    "map3.add(\"商丘\", quxian, values3, visual_range=[1, 10], maptype='商丘', is_visualmap=True,\n",
    "    visual_text_color='#000')\n",
    "#map3.render(\"商丘地图.html\")\n",
    "map3"
   ]
  },
  {
   "cell_type": "code",
   "execution_count": null,
   "metadata": {
    "scrolled": false
   },
   "outputs": [],
   "source": [
    "data = [\n",
    "(\"海门\", 9),(\"鄂尔多斯\", 12),(\"招远\", 12),(\"舟山\", 12),(\"齐齐哈尔\", 14),(\"盐城\", 15),\n",
    "(\"赤峰\", 16),(\"青岛\", 18),(\"乳山\", 18),(\"金昌\", 19),(\"泉州\", 21),(\"莱西\", 21),\n",
    "(\"日照\", 21),(\"胶南\", 22),(\"南通\", 23),(\"拉萨\", 24),(\"云浮\", 24),(\"梅州\", 25)]\n",
    "\n",
    "geo = Geo(\"全国主要城市空气质量热力图\", \"data from pm2.5\", title_color=\"#fff\", title_pos=\"center\", width=800, height=600, background_color='#404a59')\n",
    "attr, value = geo.cast(data)\n",
    "#print(attr,value)\n",
    "geo.add(\"空气质量热力图\", attr, value, visual_range=[0, 25], type='heatmap',visual_text_color=\"#fff\", symbol_size=15, is_visualmap=True, is_roam=False)\n",
    "# geo.show_config()\n",
    "#geo.render(\"空气质量热力图.html\")\n",
    "geo"
   ]
  },
  {
   "cell_type": "code",
   "execution_count": null,
   "metadata": {},
   "outputs": [],
   "source": [
    "# 空气质量评分\n",
    "indexs = ['上海', '北京', '合肥', '哈尔滨', '广州', '成都', '无锡', '杭州', '武汉', '深圳', '西安', '郑州', '重庆', '长沙']\n",
    "values = [4.07, 1.85, 4.38, 2.21, 3.53, 4.37, 1.38, 4.29, 4.1, 1.31, 3.92, 4.47, 2.40, 3.60]\n",
    "\n",
    "\n",
    "geo = Geo(\"全国主要城市空气质量评分\", \"data from pm2.5\", title_color=\"#fff\", title_pos=\"center\", width=1200, height=600, background_color='#404a59')\n",
    "\n",
    "# type=\"effectScatter\", is_random=True, effect_scale=5  使点具有发散性\n",
    "geo.add(\"空气质量评分\", indexs, values, type=\"effectScatter\", is_random=True, effect_scale=5, visual_range=[0, 5],visual_text_color=\"#fff\", symbol_size=15, is_visualmap=True, is_roam=False)\n",
    "# geo.show_config()\n",
    "geo.render(\"空气质量评分.html\")\n",
    "geo"
   ]
  },
  {
   "cell_type": "code",
   "execution_count": null,
   "metadata": {},
   "outputs": [],
   "source": [
    "geo.print_echarts_options()"
   ]
  },
  {
   "cell_type": "code",
   "execution_count": null,
   "metadata": {},
   "outputs": [],
   "source": [
    "from pyecharts import GeoLines, Style\n",
    "\n",
    "style = Style(\n",
    "    title_top=\"#fff\",\n",
    "    title_pos = \"center\",\n",
    "    width=1200,\n",
    "    height=600,\n",
    "    background_color=\"#404a59\"\n",
    ")\n",
    "\n",
    "data_guangzhou = [\n",
    "    [\"广州\", \"上海\"],\n",
    "    [\"广州\", \"北京\"],\n",
    "    [\"广州\", \"南京\"],\n",
    "    [\"广州\", \"重庆\"],\n",
    "    [\"广州\", \"兰州\"],\n",
    "    [\"广州\", \"杭州\"]\n",
    "]\n",
    "geolines = GeoLines(\"GeoLines 示例\", **style.init_style)\n",
    "geolines.add(\"从广州出发\", data_guangzhou, is_legend_show=False)\n",
    "geolines"
   ]
  },
  {
   "cell_type": "code",
   "execution_count": null,
   "metadata": {},
   "outputs": [],
   "source": []
  }
 ],
 "metadata": {
  "kernelspec": {
   "display_name": "Python 3",
   "language": "python",
   "name": "python3"
  },
  "language_info": {
   "codemirror_mode": {
    "name": "ipython",
    "version": 3
   },
   "file_extension": ".py",
   "mimetype": "text/x-python",
   "name": "python",
   "nbconvert_exporter": "python",
   "pygments_lexer": "ipython3",
   "version": "3.7.0"
  }
 },
 "nbformat": 4,
 "nbformat_minor": 2
}
