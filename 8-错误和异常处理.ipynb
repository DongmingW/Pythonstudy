{
 "cells": [
  {
   "cell_type": "code",
   "execution_count": null,
   "metadata": {},
   "outputs": [],
   "source": [
    "# Python 的语法错误或者称之为解析错，是初学者经常碰到的，如下实例：\n",
    "\n",
    "while True \n",
    "    print('Hello world')\n"
   ]
  },
  {
   "cell_type": "markdown",
   "metadata": {},
   "source": [
    "#####  运行期检测到的错误被称为异常。大多数的异常都不会被程序处理，都以错误信息的形式展现:\n",
    "* 例1："
   ]
  },
  {
   "cell_type": "code",
   "execution_count": null,
   "metadata": {},
   "outputs": [],
   "source": [
    "10 * (1/0)"
   ]
  },
  {
   "cell_type": "markdown",
   "metadata": {},
   "source": [
    "* 例2："
   ]
  },
  {
   "cell_type": "code",
   "execution_count": null,
   "metadata": {},
   "outputs": [],
   "source": [
    "4 + spam*3"
   ]
  },
  {
   "cell_type": "markdown",
   "metadata": {},
   "source": [
    "* 例3："
   ]
  },
  {
   "cell_type": "code",
   "execution_count": null,
   "metadata": {},
   "outputs": [],
   "source": [
    "# 例3：\n",
    "'2' + 2"
   ]
  },
  {
   "cell_type": "markdown",
   "metadata": {},
   "source": [
    "#### 内置异常类：\n",
    "* Exception          所有异常类的基类\n",
    "* AttributeError     属性引用或赋值失败时抛出的异常\n",
    "* OSError            当操作系统无法执行任务时抛出的异常\n",
    "* IndexError         在使用序列中不存在的索引时抛出的异常\n",
    "* KeyError           在使用序列中不存在的键值时抛出的异常\n",
    "* NameError          在找不到名字（变量）是抛出异常\n",
    "* SyntaxError        在代码为错误形式时触发\n",
    "* TypeError          类型错误抛出的异常\n",
    "* ValueError         在使用不合适的值时抛出的异常\n",
    "* ZeroDivisionError  被0除是抛出的异常"
   ]
  },
  {
   "cell_type": "markdown",
   "metadata": {},
   "source": [
    "#### 异常处理：try  except语句"
   ]
  },
  {
   "cell_type": "code",
   "execution_count": null,
   "metadata": {},
   "outputs": [],
   "source": [
    "y = 100\n",
    "while True:\n",
    "        try:\n",
    "            x = int(input(\"Please enter a number: \"))\n",
    "            y = y/x\n",
    "            break\n",
    "        except ZeroDivisionError :\n",
    "            print(\"Oops!  That was no valid number.  Try again   \")\n",
    "\n"
   ]
  },
  {
   "cell_type": "code",
   "execution_count": 2,
   "metadata": {},
   "outputs": [
    {
     "name": "stdout",
     "output_type": "stream",
     "text": [
      "Please enter a number: a\n",
      "Oops!  That was no valid number.  Try again    invalid literal for int() with base 10: 'a'\n",
      "Please enter a number: 1\n"
     ]
    }
   ],
   "source": [
    "while True:\n",
    "        try:\n",
    "            x = int(input(\"Please enter a number: \"))\n",
    "            break\n",
    "        except ValueError :\n",
    "            print(\"Oops!  That was no valid number.  Try again   \",err)"
   ]
  },
  {
   "cell_type": "code",
   "execution_count": 5,
   "metadata": {},
   "outputs": [
    {
     "name": "stdout",
     "output_type": "stream",
     "text": [
      "Unexpected error: <class 'ZeroDivisionError'>\n",
      "over\n"
     ]
    }
   ],
   "source": [
    "import sys\n",
    "try:\n",
    "    f = open(\"c:/users/jiang/file3.txt\",\"r\")\n",
    "    s = f.readline()\n",
    "    #i = int(s.strip())\n",
    "    y = 100/0\n",
    "except OSError as err:\n",
    "    print(\"OS error: {0}\".format(err))\n",
    "except ValueError:\n",
    "    print(\"Could not convert data to an integer.\")\n",
    "except:\n",
    "    print(\"Unexpected error:\", sys.exc_info()[0])\n",
    "    #raise\n",
    "print(\"over\")"
   ]
  },
  {
   "cell_type": "code",
   "execution_count": 14,
   "metadata": {},
   "outputs": [
    {
     "name": "stdout",
     "output_type": "stream",
     "text": [
      "[Errno 2] No such file or directory: 'c:/users/jiang/file4.txt'\n",
      "over\n"
     ]
    }
   ],
   "source": [
    "try:\n",
    "    f = open(\"c:/users/jiang/file4.txt\",\"r\")\n",
    "    s = f.readline()\n",
    "    i = int(s.strip())\n",
    "    y = 100/0\n",
    "except (OSError,ValueError) as err:\n",
    "    print(err)\n",
    "except:\n",
    "    print(\"Unexpected error:\", sys.exc_info()[0])\n",
    "    #raise\n",
    "print(\"over\")"
   ]
  },
  {
   "cell_type": "code",
   "execution_count": 3,
   "metadata": {},
   "outputs": [
    {
     "name": "stdout",
     "output_type": "stream",
     "text": [
      "Handling run-time error: division by zero\n"
     ]
    }
   ],
   "source": [
    "\"\"\"\n",
    "异常处理并不仅仅处理那些直接发生在try子句中的异常，\n",
    "而且还能处理子句中调用的函数（甚至间接调用的函数）里抛出的异常。\n",
    "\"\"\"\n",
    "def this_fails():\n",
    "        x = 1/0\n",
    "   \n",
    "try:\n",
    "    this_fails()\n",
    "except ZeroDivisionError as err:\n",
    "    print('Handling run-time error:', err)"
   ]
  },
  {
   "cell_type": "code",
   "execution_count": 17,
   "metadata": {},
   "outputs": [
    {
     "name": "stdout",
     "output_type": "stream",
     "text": [
      "Please enter a number: 0\n",
      "Oops!  That was no valid number.  Try again   \n",
      "Please enter a number: 1\n",
      "ok\n"
     ]
    }
   ],
   "source": [
    "\"\"\"\n",
    "try except 语句还有一个可选的else子句，\n",
    "如果使用这个子句，那么必须放在所有的except子句之后。\n",
    "这个子句将在try子句没有发生任何异常的时候执行。\n",
    "\n",
    "\"\"\"\n",
    "\n",
    "y = 100\n",
    "while True:\n",
    "        try:\n",
    "            x = int(input(\"Please enter a number: \"))\n",
    "            y = y/x            \n",
    "        except ZeroDivisionError :\n",
    "            print(\"Oops!  That was no valid number.  Try again   \")\n",
    "        \n",
    "        else:\n",
    "            print(\"ok\")\n",
    "            break\n",
    "         "
   ]
  },
  {
   "cell_type": "code",
   "execution_count": 19,
   "metadata": {},
   "outputs": [
    {
     "name": "stdout",
     "output_type": "stream",
     "text": [
      "Please enter a number: 0\n",
      "Oops!  That was no valid number.  Try again   \n",
      "Goodbye, world!\n",
      "Please enter a number: 1\n",
      "ok\n",
      "Goodbye, world!\n"
     ]
    }
   ],
   "source": [
    "\"\"\"\n",
    "try 语句还有另外一个可选的子句finally ，\n",
    "它定义了无论在任何情况下都会执行的清理行为。 \n",
    "\n",
    "\"\"\"\n",
    "\n",
    "y = 100\n",
    "while True:\n",
    "        try:\n",
    "            x = int(input(\"Please enter a number: \"))\n",
    "            y = y/x            \n",
    "        except ZeroDivisionError :\n",
    "            print(\"Oops!  That was no valid number.  Try again   \")\n",
    "        \n",
    "        else:\n",
    "            print(\"ok\")\n",
    "            break\n",
    "        finally:\n",
    "            print('Goodbye, world!')"
   ]
  },
  {
   "cell_type": "code",
   "execution_count": 1,
   "metadata": {},
   "outputs": [],
   "source": [
    "# Python 使用 raise 语句抛出一个指定的异常。例如:\n",
    "\n",
    "#raise NameError('HiThere')"
   ]
  },
  {
   "cell_type": "code",
   "execution_count": 25,
   "metadata": {
    "scrolled": false
   },
   "outputs": [
    {
     "name": "stdout",
     "output_type": "stream",
     "text": [
      "My exception occurred, value: 4\n"
     ]
    }
   ],
   "source": [
    "\"\"\"\n",
    "可以通过创建一个新的异常类来拥有自己的异常。\n",
    "异常类继承自 Exception 类，可以直接继承，或者间接继承\n",
    "\"\"\"\n",
    "class MyError(Exception):\n",
    "        def __init__(self, value):\n",
    "            self.value = value\n",
    "        def __str__(self):\n",
    "            return repr(self.value)\n",
    "\n",
    "try:\n",
    "        raise MyError(2*2)\n",
    "except MyError as e:\n",
    "        print('My exception occurred, value:', e.value)\n",
    "\n"
   ]
  },
  {
   "cell_type": "code",
   "execution_count": null,
   "metadata": {},
   "outputs": [],
   "source": []
  }
 ],
 "metadata": {
  "kernelspec": {
   "display_name": "Python 3",
   "language": "python",
   "name": "python3"
  },
  "language_info": {
   "codemirror_mode": {
    "name": "ipython",
    "version": 3
   },
   "file_extension": ".py",
   "mimetype": "text/x-python",
   "name": "python",
   "nbconvert_exporter": "python",
   "pygments_lexer": "ipython3",
   "version": "3.7.0"
  }
 },
 "nbformat": 4,
 "nbformat_minor": 2
}
