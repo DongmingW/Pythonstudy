{
 "cells": [
  {
   "cell_type": "markdown",
   "metadata": {},
   "source": [
    "# NumPy -基础科学计算库\n",
    "## 简介"
   ]
  },
  {
   "cell_type": "markdown",
   "metadata": {},
   "source": [
    "NumPy(Numerical Python) 是 Python 语言的一个扩展程序库，支持大量的维度数组与矩阵运算，此外也针对数组运算提供大量的数学函数库。\n",
    "\n",
    "NumPy 的前身 Numeric 最早是由 Jim Hugunin 与其它协作者共同开发，2005 年，Travis Oliphant 在 Numeric 中结合了另一个同性质的程序库 Numarray 的特色，并加入了其它扩展而开发了 NumPy。NumPy 为开放源代码并且由许多协作者共同维护开发。\n",
    "\n",
    "NumPy提供了大量的库函数和操作，可以帮助开发人员轻松地进行数值计算。这类数值计算广泛用于以下任务：\n",
    "\n",
    "* __机器学习模型__：在编写机器学习算法时，需要对矩阵进行各种数值计算。例如矩阵乘法、换位、加法等。NumPy提供了一个非常好的库，用于简单(在编写代码方面)和快速(在速度方面)计算。NumPy数组用于存储训练数据和机器学习模型的参数。\n",
    "* __图像处理和计算机图形学__：计算机中的图像表示为多维数字数组。NumPy成为同样情况下最自然的选择。实际上，NumPy提供了一些优秀的库函数来快速处理图像。例如，镜像图像、按特定角度旋转图像等。\n",
    "* __数学任务__：NumPy对于执行各种数学任务非常有用，如数值积分、微分、内插、外推等。因此，当涉及到数学任务时，它形成了一种基于Python的MATLAB的快速替代。"
   ]
  },
  {
   "cell_type": "markdown",
   "metadata": {},
   "source": [
    "## 基础知识"
   ]
  },
  {
   "cell_type": "markdown",
   "metadata": {},
   "source": [
    "Anaconda中自带Numpy包，Python中安装numpy可使用命令：``pip install numpy``。\n",
    "\n",
    "NumPy的主要对象是同类型的多维数组。NumPy的数组类被称为ndarray。别名为 array。 请注意，numpy.array 与标准Python库类 array.array 不同，后者仅处理一维数组并提供较少的功能。 ndarray 对象则提供更关键的属性：\n",
    "\n",
    "* __ndarray.ndim__：数组的轴（维度）的个数。在Python世界中，维度的数量被称为rank。\n",
    "* __ndarray.shape__：数组的维度。这是一个整数的元组，表示每个维度中数组的大小。对于有n行和m列的矩阵，shape将是(n,m)。因此，shape元组的长度就是rank或维度的个数 ndim。\n",
    "* __ndarray.size__：数组元素的总数。这等于shape的元素的乘积。\n",
    "* __ndarray.dtype__：一个描述数组中元素类型的对象。可以使用标准的Python类型创建或指定dtype。另外NumPy提供它自己的类型。例如numpy.int32、numpy.int16和numpy.float64。\n",
    "* __ndarray.itemsize__：数组中每个元素的字节大小。例如，元素为 float64 类型的数组的 itemsize 为8（=64/8），而 complex32 类型的数组的 itemsize 为4（=32/8）。它等于 ndarray.dtype.itemsize 。\n",
    "* __ndarray.data__：该缓冲区包含数组的实际元素。通常，我们不需要使用此属性，因为我们将使用索引访问数组中的元素。"
   ]
  },
  {
   "cell_type": "markdown",
   "metadata": {},
   "source": [
    "## 一、创建数组 \n",
    "#### array 函数：\n"
   ]
  },
  {
   "cell_type": "code",
   "execution_count": null,
   "metadata": {},
   "outputs": [],
   "source": [
    "import numpy as np \n",
    "a = np.array([1,2,3])  \n",
    "print (a)\n",
    "print(np.shape(a))\n",
    "print(np.ndim(a))\n",
    "print(\"----------------------\")\n",
    "\n",
    "a = np.array([1,2,3],ndmin = 2) \n",
    "print (a)\n",
    "print(np.shape(a))\n",
    "print(np.ndim(a))\n",
    "print(\"----------------------\")\n",
    "\n",
    "a = np.array([[1,  2],  [3,  4]], order = \"C\")  \n",
    "print (a)\n",
    "print(np.shape(a))\n",
    "print(np.ndim(a))\n",
    "print(\"----------------------\")\n",
    "\n",
    "a = np.array([[1,  2],  [3,  4]], order = \"F\")  \n",
    "print (a)\n",
    "print(np.shape(a))\n",
    "print(np.ndim(a))\n",
    "print(\"----------------------\")\n"
   ]
  },
  {
   "cell_type": "code",
   "execution_count": null,
   "metadata": {},
   "outputs": [],
   "source": [
    "a = np.array([1,  2,  3], dtype = float  )  \n",
    "print (a)"
   ]
  },
  {
   "cell_type": "markdown",
   "metadata": {},
   "source": [
    "#### 数据类型对象 (dtype)\n"
   ]
  },
  {
   "cell_type": "code",
   "execution_count": null,
   "metadata": {},
   "outputs": [],
   "source": [
    "import numpy as np\n",
    "\n",
    "# int8, int16, int32, int64 四种数据类型可以使用字符串 'i1', 'i2','i4','i8' 代替\n",
    "dt = np.dtype('i4')\n",
    "print(dt)\n",
    "\n",
    "student = np.dtype([('name','S20'), ('age', 'i1'), ('marks', 'f4')]) \n",
    "a = np.array([('abc', 21, 50),('xyz', 18, 75)], dtype = student) \n",
    "print(a)\n",
    "# 类型字段名可以用于存取实际的 name age 列\n",
    "print(a['name'])\n",
    "print(a['age'])"
   ]
  },
  {
   "cell_type": "code",
   "execution_count": null,
   "metadata": {},
   "outputs": [],
   "source": []
  },
  {
   "cell_type": "markdown",
   "metadata": {},
   "source": [
    "__numpy.empty__\n",
    "\n",
    "numpy.empty 方法用来创建一个指定形状（shape）、数据类型（dtype）且未初始化的数组:"
   ]
  },
  {
   "cell_type": "code",
   "execution_count": null,
   "metadata": {},
   "outputs": [],
   "source": [
    "import numpy as np \n",
    "f = np.empty([3,4], dtype = int) \n",
    "print (f)"
   ]
  },
  {
   "cell_type": "markdown",
   "metadata": {},
   "source": [
    "__numpy.zeros__\n",
    "\n",
    "创建指定大小的数组，数组元素以 0 来填充:"
   ]
  },
  {
   "cell_type": "code",
   "execution_count": null,
   "metadata": {},
   "outputs": [],
   "source": [
    "import numpy as np \n",
    "g = np.zeros([3,4], dtype = int) \n",
    "print (g)"
   ]
  },
  {
   "cell_type": "markdown",
   "metadata": {},
   "source": [
    "__numpy.ones__\n",
    "\n",
    "创建指定形状的数组，数组元素以 1 来填充:"
   ]
  },
  {
   "cell_type": "code",
   "execution_count": null,
   "metadata": {},
   "outputs": [],
   "source": [
    "import numpy as np\n",
    "h = np.ones([3,4], dtype = int)\n",
    "print(h)"
   ]
  },
  {
   "cell_type": "markdown",
   "metadata": {},
   "source": [
    "__numpy.arange__\n",
    "\n",
    "numpy 包中的使用 arange 函数创建数值范围并返回 ndarray 对象，函数格式如下：\n",
    "``numpy.arange(start, stop, step, dtype)``\n",
    "\n",
    "* start\t起始值，默认为0\n",
    "* stop\t终止值\n",
    "* step\t步长，默认为1\n",
    "* dtype\t返回ndarray的数据类型，如果没有提供，则会使用输入数据的类型。"
   ]
  },
  {
   "cell_type": "code",
   "execution_count": null,
   "metadata": {
    "scrolled": true
   },
   "outputs": [],
   "source": [
    "import numpy as np\n",
    " \n",
    "i = np.arange(24)  \n",
    "print ('np.arange(24)生成格式：\\n',i)\n",
    "i = np.arange(20,24)  \n",
    "print ('np.arange(20,24)生成格式：\\n',i)\n",
    "i = np.arange(0,24,3)  \n",
    "print ('np.arange(0,24,3) 步长为3,生成格式：\\n',i)\n",
    "\n"
   ]
  },
  {
   "cell_type": "markdown",
   "metadata": {},
   "source": [
    "#### numpy.linspace\n",
    "##### numpy.linspace 函数用于创建一个一维数组，数组是一个等差数列构成的，格式如下：\n",
    "##### np.linspace(start, stop, num=50, endpoint=True, retstep=False, dtype=None)\n",
    "* start\t序列的起始值\n",
    "* stop\t序列的终止值，如果endpoint为true，该值包含于数列中\n",
    "* num\t要生成的等步长的样本数量，默认为50\n",
    "* endpoint\t该值为 ture 时，数列中中包含stop值，反之不包含，默认是True。\n",
    "* retstep\t如果为 True 时，生成的数组中会显示间距，反之不显示。\n",
    "* dtype\tndarray 的数据类型"
   ]
  },
  {
   "cell_type": "code",
   "execution_count": null,
   "metadata": {},
   "outputs": [],
   "source": [
    "import numpy as np\n",
    "a = np.linspace(1,10,10)\n",
    "print(a)\n",
    "a = np.linspace(1,1,10)\n",
    "print(a)\n",
    "a = np.linspace(10, 20,  5, endpoint =  False)  \n",
    "print(a)\n",
    "a =np.linspace(1,10,10,retstep= True)\n",
    "print(a)\n"
   ]
  },
  {
   "cell_type": "markdown",
   "metadata": {},
   "source": [
    "#### numpy.logspace\n",
    "##### numpy.logspace 函数用于创建一个于等比数列。格式如下：\n",
    "##### np.logspace(start, stop, num=50, endpoint=True, base=10.0, dtype=None)\n",
    "* base\t对数 log 的底数。"
   ]
  },
  {
   "cell_type": "code",
   "execution_count": null,
   "metadata": {},
   "outputs": [],
   "source": [
    "import numpy as np\n",
    "# 默认底数是 10\n",
    "\n",
    "a = a = np.logspace(0,9,10,base=2)\n",
    "print (a)\n"
   ]
  },
  {
   "cell_type": "code",
   "execution_count": null,
   "metadata": {},
   "outputs": [],
   "source": []
  },
  {
   "cell_type": "markdown",
   "metadata": {},
   "source": [
    "#### numpy.asarray  从已有的数组创建数组\n",
    "#####  numpy.asarray(a, dtype = None, order = None)\n",
    "* a\t任意形式的输入参数，可以是，列表, 列表的元组, 元组, 元组的元组, 元组的列表，多维数组\n",
    "* dtype\t数据类型，可选\n",
    "* order\t可选，有\"C\"和\"F\"两个选项,分别代表，行优先和列优先，在计算机内存中的存储元素的顺序。\n"
   ]
  },
  {
   "cell_type": "code",
   "execution_count": null,
   "metadata": {},
   "outputs": [],
   "source": [
    "import numpy as np \n",
    " \n",
    "x =  [1,2,3] \n",
    "a = np.array(x)\n",
    "print (a)\n",
    "a = np.asarray(x) \n",
    "print (a)\n",
    "x =  [1,2,3] \n",
    "a = np.asarray(x, dtype =  float)  \n",
    "print (a)\n",
    "\n"
   ]
  },
  {
   "cell_type": "code",
   "execution_count": null,
   "metadata": {},
   "outputs": [],
   "source": [
    "import numpy as np \n",
    " \n",
    "x =  [1,2,3] \n",
    "a = np.array(x)\n",
    "b = np.array(a)\n",
    "print (b)\n",
    "a = np.asarray(x) \n",
    "b = np.asarray(a)\n",
    "print (b)\n",
    "x =  [1,2,3] \n",
    "a = np.asarray(x, dtype =  float)  \n",
    "print (a)"
   ]
  },
  {
   "cell_type": "code",
   "execution_count": null,
   "metadata": {},
   "outputs": [],
   "source": [
    "print(\"---------------------------\")\n",
    "x =  (1,2,3) \n",
    "a = np.array(x) \n",
    "print (a)\n",
    "a = np.asarray(x)  \n",
    "print (a)\n",
    "print(a.shape)\n",
    "\n"
   ]
  },
  {
   "cell_type": "code",
   "execution_count": null,
   "metadata": {},
   "outputs": [],
   "source": [
    "print(\"---------------------------\")\n",
    "x =  [(1,2,3),(4,5)] \n",
    "a = np.array(x) \n",
    "print (a)\n",
    "a = np.asarray(x)  \n",
    "print (a)\n",
    "print(a.shape)\n",
    "\n"
   ]
  },
  {
   "cell_type": "code",
   "execution_count": null,
   "metadata": {},
   "outputs": [],
   "source": [
    "print(\"---------------------------\")\n",
    "x =  [[1,2,3],[4,5,6]] \n",
    "a = np.array(x) \n",
    "print (a)\n",
    "a = np.asarray(x)  \n",
    "print (a)\n",
    "print(a.shape)\n"
   ]
  }
 ],
 "metadata": {
  "kernelspec": {
   "display_name": "Python 3",
   "language": "python",
   "name": "python3"
  },
  "language_info": {
   "codemirror_mode": {
    "name": "ipython",
    "version": 3
   },
   "file_extension": ".py",
   "mimetype": "text/x-python",
   "name": "python",
   "nbconvert_exporter": "python",
   "pygments_lexer": "ipython3",
   "version": "3.7.0"
  }
 },
 "nbformat": 4,
 "nbformat_minor": 2
}
