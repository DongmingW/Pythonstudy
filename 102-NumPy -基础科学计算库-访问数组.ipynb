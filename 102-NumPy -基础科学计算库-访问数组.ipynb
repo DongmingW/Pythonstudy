{
 "cells": [
  {
   "cell_type": "markdown",
   "metadata": {},
   "source": [
    "#### ndarray对象的内容可以通过索引或切片来访问和修改，与 Python 中 list 的切片操作一样。\n",
    "#### ndarray 数组可以基于 0 - n 的下标进行索引，切片对象可以通过内置的 slice 函数，并设置 start, stop 及 step 参数进行，从原数组中切割出一个新数组。"
   ]
  },
  {
   "cell_type": "code",
   "execution_count": null,
   "metadata": {},
   "outputs": [],
   "source": [
    "import numpy as np\n",
    " \n",
    "a = np.arange(10)\n",
    "print(a)\n",
    "print(a[5])\n",
    "print(a[2:5])\n",
    "print(a[2:])\n",
    "\n",
    "b = a[2:7:2]   # 从索引 2 开始到索引 7 停止，间隔为 2\n",
    "print(b)\n",
    "s = slice(2,7,2)   # 从索引 2 开始到索引 7 停止，间隔为2\n",
    "print (a[s])\n"
   ]
  },
  {
   "cell_type": "code",
   "execution_count": null,
   "metadata": {},
   "outputs": [],
   "source": [
    "import numpy as np\n",
    " \n",
    "a = np.array([[1,2,3],[3,4,5],[4,5,6]])\n",
    "print(a)\n",
    "\n",
    "print(a[1])        # 第2行元素\n",
    "print(a[1,1])      # 第2行第2列元素\n",
    "print(a[1:])       # 第2行及剩下的所有元素\n",
    "print (a[...,1])   # 第2列元素\n",
    "print (a[1,...])   # 第2行元素\n",
    "print (a[...,1:])  # 第2列及剩下的所有元素"
   ]
  },
  {
   "cell_type": "markdown",
   "metadata": {},
   "source": [
    "#### NumPy 高级索引\n",
    "* NumPy 比一般的 Python 序列提供更多的索引方式。除了之前看到的用整数和切片的索引外，数组可以由整数数组索引、布尔索引及花式索引。\n",
    "\n",
    "#### 整数数组索引\n",
    "* 以下实例获取数组中(0,0)，(1,1)和(2,0)位置处的元素。"
   ]
  },
  {
   "cell_type": "code",
   "execution_count": null,
   "metadata": {},
   "outputs": [],
   "source": [
    "import numpy as np \n",
    " \n",
    "x = np.array([[1,  2],  [3,  4],  [5,  6]]) \n",
    "print(x)\n",
    "y = x[[0,1,2],  [0,1,0]]  \n",
    "print (y)"
   ]
  },
  {
   "cell_type": "markdown",
   "metadata": {},
   "source": [
    "* 以下实例获取了 4X3 数组中的四个角的元素。 行索引是 [0,0] 和 [3,3]，而列索引是 [0,2] 和 [0,2]。"
   ]
  },
  {
   "cell_type": "code",
   "execution_count": null,
   "metadata": {},
   "outputs": [],
   "source": [
    "x = np.array([[  0,  1,  2],[  3,  4,  5],[  6,  7,  8],[  9,  10,  11]])  \n",
    "print ('我们的数组是：' )\n",
    "print (x)\n",
    "print ('\\n')\n",
    "rows = np.array([[0,0],[3,3]]) \n",
    "cols = np.array([[0,2],[0,2]]) \n",
    "y = x[rows,cols]  \n",
    "print  ('这个数组的四个角元素是：')\n",
    "print (y)\n",
    "\n",
    "print('--------------------------------------------')\n",
    "rows = np.array([0,0,3,3]) \n",
    "cols = np.array([0,2,0,2]) \n",
    "y = x[rows,cols]  \n",
    "print  ('这个数组的四个角元素是：')\n",
    "print (y)\n",
    "\n",
    "print('--------------------------------------------')\n",
    "rows = np.array([[0,0,3,3]]) \n",
    "cols = np.array([[0,2,0,2]]) \n",
    "y = x[rows,cols]  \n",
    "print  ('这个数组的四个角元素是：')\n",
    "print (y)\n",
    "\n"
   ]
  },
  {
   "cell_type": "markdown",
   "metadata": {},
   "source": [
    "#### 花式索引\n",
    "* 花式索引指的是利用整数数组进行索引。\n",
    "* 花式索引根据索引数组的值作为目标数组的某个轴的下标来取值。对于使用一维整型数组作为索引，如果目标是一维数组，那么索引的结果就是对应位置的元素；如果目标是二维数组，那么就是对应下标的行。\n",
    "* 花式索引跟切片不一样，它总是将数据复制到新数组中。"
   ]
  },
  {
   "cell_type": "code",
   "execution_count": null,
   "metadata": {},
   "outputs": [],
   "source": [
    "import numpy as np \n",
    "\n",
    "x=np.arange(32)\n",
    "print(x)\n",
    "print('-----------1---------------------')\n",
    "\n",
    "print (x[[4,2,1,7]])\n",
    "print('-----------2---------------------')\n",
    "\n",
    "x=np.arange(32).reshape((8,4))\n",
    "print(x)\n",
    "print('----------3----------------------')\n",
    "\n",
    "print (x[[4,2,1,7]])\n",
    "print('----------4----------------------')\n",
    "\n",
    "print (x[[4,2,1,7],[1,1,1,1]])\n",
    "print('----------5----------------------')\n",
    "\n",
    "print (x[np.ix_([4,2,1,7],[1,2,3])])\n"
   ]
  },
  {
   "cell_type": "markdown",
   "metadata": {},
   "source": [
    "#### 布尔索引\n",
    "* 我们可以通过一个布尔数组来索引目标数组。\n",
    "* 布尔索引通过布尔运算（如：比较运算符）来获取符合指定条件的元素的数组。\n",
    "* 以下实例获取大于 5 的元素："
   ]
  },
  {
   "cell_type": "code",
   "execution_count": null,
   "metadata": {},
   "outputs": [],
   "source": [
    "import numpy as np \n",
    " \n",
    "x = np.array([[  0,  1,  2],[  9,  10,  11],[  3,  4,  5],[  6,  7,  8]])  \n",
    "print ('我们的数组是：')\n",
    "print (x)\n",
    "print ('--------------------------------------')\n",
    "# 现在我们会打印出大于 5 的元素  \n",
    "print  ('大于 5 的元素是：')\n",
    "print (x[x >  5])\n",
    "print ('--------------------------------------')\n",
    "print (x >  5)"
   ]
  },
  {
   "cell_type": "code",
   "execution_count": null,
   "metadata": {},
   "outputs": [],
   "source": [
    "import numpy as np \n",
    "import math\n",
    " \n",
    "a = np.array([np.nan,  1,2,np.nan,3,4,5])  \n",
    "print(a)\n",
    "print('---------------------------------------------')\n",
    "\n",
    "print (~np.isnan(a))\n",
    "print (a[~np.isnan(a)])     #使用了 ~（取补运算符）来过滤 NaN。\n",
    "\n",
    "a = np.array([1.1,  2+6j,  5.1,  3.5+5j])  \n",
    "print (a[np.iscomplex(a)])  #从数组中过滤掉非复数元素。\n"
   ]
  }
 ],
 "metadata": {
  "kernelspec": {
   "display_name": "Python 3",
   "language": "python",
   "name": "python3"
  },
  "language_info": {
   "codemirror_mode": {
    "name": "ipython",
    "version": 3
   },
   "file_extension": ".py",
   "mimetype": "text/x-python",
   "name": "python",
   "nbconvert_exporter": "python",
   "pygments_lexer": "ipython3",
   "version": "3.7.0"
  }
 },
 "nbformat": 4,
 "nbformat_minor": 2
}
