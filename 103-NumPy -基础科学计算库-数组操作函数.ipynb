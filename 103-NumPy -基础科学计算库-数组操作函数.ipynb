{
 "cells": [
  {
   "cell_type": "markdown",
   "metadata": {},
   "source": [
    "## Numpy 数组操作\n",
    "#### Numpy 中包含了一些函数用于处理数组，大概可分为以下几类：\n",
    "* 修改数组形状\n",
    "* 数组元素的添加与删除\n",
    "* 翻转数组\n",
    "* 修改数组维度\n",
    "* 连接数组\n",
    "* 分割数组\n"
   ]
  },
  {
   "cell_type": "markdown",
   "metadata": {},
   "source": [
    "### 修改数组形状\n",
    "* reshape\t不改变数据的条件下修改形状\n",
    "* flat\t数组元素迭代器\n",
    "* flatten\t返回一份数组拷贝，对拷贝所做的修改不会影响原始数组\n",
    "* ravel\t返回展开数组"
   ]
  },
  {
   "cell_type": "markdown",
   "metadata": {},
   "source": [
    "#### numpy.reshape\n",
    "##### numpy.reshape 函数可以在不改变数据的条件下修改形状"
   ]
  },
  {
   "cell_type": "code",
   "execution_count": null,
   "metadata": {},
   "outputs": [],
   "source": [
    "import numpy as np\n",
    " \n",
    "a = np.arange(8)\n",
    "print ('原始数组：')\n",
    "print (a)\n",
    "print ('\\n')\n",
    " \n",
    "b = a.reshape(4,2)\n",
    "print ('修改后的数组：')\n",
    "print (b)\n",
    "b[0,0]=100\n",
    "print(b)\n",
    "print(a)"
   ]
  },
  {
   "cell_type": "code",
   "execution_count": null,
   "metadata": {},
   "outputs": [],
   "source": [
    "import numpy as np\n",
    "\n",
    "#把指定的数组矩阵改变形状,但是元素个数不变\n",
    "#有时不知道数组的大小，或数组大小可变，但需要修改形状\n",
    "d=np.arange(36).reshape(3,-1)  #将数组改为3行，列数不定\n",
    "print(d)\n",
    "print('-----------------------------------------------------------')\n",
    "d=np.arange(36).reshape(-1,2)  #将数组改为2列，行数不定\n",
    "print(d)"
   ]
  },
  {
   "cell_type": "markdown",
   "metadata": {},
   "source": [
    "#### numpy.ndarray.flat  是一个数组元素迭代器"
   ]
  },
  {
   "cell_type": "code",
   "execution_count": null,
   "metadata": {},
   "outputs": [],
   "source": [
    "import numpy as np\n",
    " \n",
    "a = np.arange(9).reshape(3,3) \n",
    "print ('原始数组：')\n",
    "print(a)\n",
    "print(\"-------------------------------------------------\") \n",
    "\n",
    "for row in a:\n",
    "    print (row)\n",
    "print(\"-------------------------------------------------\") \n",
    "\n",
    "#对数组中每个元素都进行处理，可以使用flat属性，该属性是一个数组元素迭代器：\n",
    "print ('迭代后的数组：')\n",
    "for element in a.flat:\n",
    "    print (element,end=\",\")\n",
    "print('\\n')\n",
    "print(a.flat)\n",
    "print(\"-------------------------------------------------\") \n",
    "\n",
    "for x in np.nditer(a):\n",
    "    print (x, end=\",\" )\n",
    "print ('\\n')"
   ]
  },
  {
   "cell_type": "code",
   "execution_count": null,
   "metadata": {},
   "outputs": [],
   "source": []
  },
  {
   "cell_type": "markdown",
   "metadata": {},
   "source": [
    "#### numpy.ndarray.flatten  返回一份数组拷贝，对拷贝所做的修改不会影响原始数组,格式如下：\n",
    "* ndarray.flatten(order='C')"
   ]
  },
  {
   "cell_type": "code",
   "execution_count": null,
   "metadata": {
    "scrolled": true
   },
   "outputs": [],
   "source": [
    "import numpy as np\n",
    " \n",
    "a = np.arange(8).reshape(2,4)\n",
    " \n",
    "print ('原数组：')\n",
    "print (a)\n",
    "print ('\\n')\n",
    "# 默认按行\n",
    " \n",
    "print ('展开的数组：')\n",
    "print (a.flatten())\n",
    "print ('\\n')\n",
    " \n",
    "print ('以 F 风格顺序展开的数组：')\n",
    "print (a.flatten(order = 'F'))\n",
    "print ('\\n')\n",
    "b = a.flatten(order = 'F')\n",
    "b[0] = 100\n",
    "print (b)\n",
    "print ('\\n')\n",
    "print (a)"
   ]
  },
  {
   "cell_type": "markdown",
   "metadata": {},
   "source": [
    "#### numpy.ravel() 展平的数组元素，返回的是数组视图，修改会影响原始数组。\n",
    "* numpy.ravel(a, order='C')\n",
    "* order：'C' -- 按行，'F' -- 按列，'A' -- 原顺序，'K' -- 元素在内存中的出现顺序。"
   ]
  },
  {
   "cell_type": "code",
   "execution_count": null,
   "metadata": {},
   "outputs": [],
   "source": [
    "import numpy as np\n",
    " \n",
    "a = np.arange(8).reshape(2,4)\n",
    " \n",
    "print ('原数组：')\n",
    "print (a)\n",
    "print ('\\n')\n",
    " \n",
    "print ('调用 ravel 函数之后：')\n",
    "print (a.ravel())\n",
    "print ('\\n')\n",
    " \n",
    "print ('以 F 风格顺序调用 ravel 函数之后：')\n",
    "print (a.ravel(order = 'F'))\n",
    "print ('\\n')\n",
    "\n",
    "b = a.ravel()\n",
    "b[0] = 100\n",
    "print (b)\n",
    "print ('\\n')\n",
    "print (a)"
   ]
  },
  {
   "cell_type": "markdown",
   "metadata": {},
   "source": [
    "## 数组元素的添加与删除\n",
    "* resize\t返回指定形状的新数组\n",
    "* append\t将值添加到数组末尾\n",
    "* insert\t沿指定轴将值插入到指定下标之前\n",
    "* delete\t删掉某个轴的子数组，并返回删除后的新数组\n",
    "* unique\t查找数组内的唯一元素\n"
   ]
  },
  {
   "cell_type": "markdown",
   "metadata": {},
   "source": [
    "####  numpy.resize 函数返回指定大小的新数组。 如果新数组大小大于原始大小，则包含原始数组中的元素的副本。\n",
    "\n",
    "#### numpy.resize(arr, shape)\n",
    "* arr：要修改大小的数组\n",
    "* shape：返回数组的新形状"
   ]
  },
  {
   "cell_type": "code",
   "execution_count": null,
   "metadata": {},
   "outputs": [],
   "source": [
    "import numpy as np\n",
    " \n",
    "a = np.array([[1,2,3],[4,5,6]])\n",
    " \n",
    "print ('第一个数组：')\n",
    "print (a)\n",
    "print ('\\n')\n",
    " \n",
    "print ('第一个数组的形状：')\n",
    "print (a.shape)\n",
    "print ('\\n')\n",
    "\n",
    "b = np.resize(a, (3,2))\n",
    "print ('第二个数组：')\n",
    "print (b)\n",
    "print ('\\n')\n",
    " \n",
    "print ('第二个数组的形状：')\n",
    "print (b.shape)\n",
    "print ('\\n')\n",
    "\n",
    "# 要注意 a 的第一行在 b 中重复出现，因为尺寸变大了\n",
    " \n",
    "print ('修改第二个数组的大小：')\n",
    "b = np.resize(a,(3,3))\n",
    "print (b)\n",
    "print(a)"
   ]
  },
  {
   "cell_type": "markdown",
   "metadata": {},
   "source": [
    "#### numpy.append   函数在数组的末尾添加值。 追加操作会分配整个数组，并把原来的数组复制到新数组中。 此外，输入数组的维度必须匹配否则将生成ValueError。\n",
    "\n",
    "* numpy.append(arr, values, axis=None)\n",
    "* arr：输入数组\n",
    "* values：要向arr添加的值，需要和arr形状相同（除了要添加的轴）\n",
    "* axis：默认为 None。当axis无定义时，是横向加成，返回总是为一维数组！当axis为0的时候（列数要相同）,是横向加成。当axis为1时，数组是加在右边（行数要相同）。"
   ]
  },
  {
   "cell_type": "code",
   "execution_count": null,
   "metadata": {},
   "outputs": [],
   "source": [
    "import numpy as np\n",
    " \n",
    "a = np.array([[1,2,3],[4,5,6]])\n",
    " \n",
    "print ('第一个数组：')\n",
    "print (a)\n",
    "print ('\\n')\n",
    " \n",
    "print ('向数组添加元素：')\n",
    "print (np.append(a, [7,8,9]))\n",
    "print(a)\n",
    "b = np.append(a, [7,8,9])\n",
    "print(b)\n",
    "print ('\\n')\n",
    " \n",
    "print ('沿轴 0 添加元素：')\n",
    "print (np.append(a, [[7,8,9]],axis = 0))\n",
    "print(a)\n",
    "print ('\\n')\n",
    " \n",
    "print ('沿轴 1 添加元素：')\n",
    "print (np.append(a, [[5,5,5],[7,8,9]],axis = 1))"
   ]
  },
  {
   "cell_type": "markdown",
   "metadata": {},
   "source": [
    "#### numpy.insert 函数在给定索引之前，沿给定轴在输入数组中插入值。\n",
    "\n",
    "* numpy.insert(arr, obj, values, axis)\n",
    "* arr：输入数组\n",
    "* obj：在其之前插入值的索引\n",
    "* values：要插入的值\n",
    "* axis：沿着它插入的轴，如果未提供，则输入数组会被展开"
   ]
  },
  {
   "cell_type": "code",
   "execution_count": 2,
   "metadata": {},
   "outputs": [
    {
     "name": "stdout",
     "output_type": "stream",
     "text": [
      "第一个数组：\n",
      "[[1 2]\n",
      " [3 4]\n",
      " [5 6]]\n",
      "\n",
      "\n",
      "未传递 Axis 参数。 在插入之前输入数组会被展开。\n",
      "[ 1  2  3 11 12  4  5  6]\n",
      "原数组a：\n",
      " [[1 2]\n",
      " [3 4]\n",
      " [5 6]]\n",
      "\n",
      "\n",
      "传递了 Axis 参数。 会广播值数组来配输入数组。\n",
      "沿轴 0 广播：\n",
      "[[ 1  2]\n",
      " [11 11]\n",
      " [ 3  4]\n",
      " [ 5  6]]\n",
      "\n",
      "\n",
      "沿轴 1 广播：\n",
      "[[ 1 11  2]\n",
      " [ 3 11  4]\n",
      " [ 5 11  6]]\n"
     ]
    }
   ],
   "source": [
    "import numpy as np\n",
    " \n",
    "a = np.array([[1,2],[3,4],[5,6]])\n",
    " \n",
    "print ('第一个数组：')\n",
    "print (a)\n",
    "print ('\\n')\n",
    " \n",
    "print ('未传递 Axis 参数。 在插入之前输入数组会被展开。')\n",
    "print (np.insert(a,3,[11,12]))\n",
    "print(\"原数组a：\\n\",a)\n",
    "print ('\\n')\n",
    "\n",
    "print ('传递了 Axis 参数。 会广播值数组来配输入数组。')\n",
    "print ('沿轴 0 广播：')\n",
    "print (np.insert(a,1,[11],axis = 0))\n",
    "print ('\\n')\n",
    " \n",
    "print ('沿轴 1 广播：')\n",
    "print (np.insert(a,1,11,axis = 1))"
   ]
  },
  {
   "cell_type": "markdown",
   "metadata": {},
   "source": [
    "####  numpy.delete 函数返回从输入数组中删除指定子数组的新数组。 \n",
    "* Numpy.delete(arr, obj, axis)\n",
    "* arr：输入数组\n",
    "* obj：可以被切片，整数或者整数数组，表明要从输入数组删除的子数组\n",
    "* axis：沿着它删除给定子数组的轴，如果未提供，则输入数组会被展开"
   ]
  },
  {
   "cell_type": "code",
   "execution_count": null,
   "metadata": {},
   "outputs": [],
   "source": [
    "import numpy as np\n",
    " \n",
    "a = np.arange(12).reshape(3,4)\n",
    " \n",
    "print ('第一个数组：')\n",
    "print (a)\n",
    "print ('\\n')\n",
    " \n",
    "print ('未传递 Axis 参数。 在删除之前输入数组会被展开。')\n",
    "print (np.delete(a,5))\n",
    "print ('\\n')\n",
    " \n",
    "print ('删除第二列：')\n",
    "print (np.delete(a,1,axis = 1))\n",
    "print ('\\n')\n",
    " \n"
   ]
  },
  {
   "cell_type": "markdown",
   "metadata": {},
   "source": [
    "#### numpy.unique 函数用于去除数组中的重复元素。\n",
    "* numpy.unique(arr, return_index, return_inverse, return_counts)\n",
    "* arr：输入数组，如果不是一维数组则会展开\n",
    "* return_index：如果为true，返回新列表元素在旧列表中的位置（下标），并以列表形式储\n",
    "* return_inverse：如果为true，返回旧列表元素在新列表中的位置（下标），并以列表形式储\n",
    "* return_counts：如果为true，返回去重数组中的元素在原数组中的出现次数"
   ]
  },
  {
   "cell_type": "code",
   "execution_count": 4,
   "metadata": {},
   "outputs": [
    {
     "name": "stdout",
     "output_type": "stream",
     "text": [
      "第一个数组：\n",
      "[5 2 6 2 7 5 6 8 2 9]\n",
      "\n",
      "\n",
      "第一个数组的去重值：\n",
      "[2 5 6 7 8 9]\n",
      "\n",
      "\n",
      "去重数组的索引数组：\n",
      "[1 0 2 4 7 9]\n",
      "\n",
      "\n",
      "我们可以看到每个和原数组下标对应的数值：\n",
      "[5 2 6 2 7 5 6 8 2 9]\n",
      "\n",
      "\n",
      "去重数组的下标：\n",
      "[2 5 6 7 8 9]\n",
      "\n",
      "\n",
      "下标为：\n",
      "[1 0 2 0 3 1 2 4 0 5]\n",
      "\n",
      "\n",
      "使用下标重构原数组：\n",
      "[5 2 6 2 7 5 6 8 2 9]\n",
      "\n",
      "\n",
      "返回去重元素的重复数量：\n",
      "[2 5 6 7 8 9]\n",
      "[3 2 2 1 1 1]\n"
     ]
    }
   ],
   "source": [
    "import numpy as np\n",
    " \n",
    "a = np.array([5,2,6,2,7,5,6,8,2,9])\n",
    " \n",
    "print ('第一个数组：')\n",
    "print (a)\n",
    "print ('\\n')\n",
    " \n",
    "print ('第一个数组的去重值：')\n",
    "u = np.unique(a)\n",
    "print (u)\n",
    "print ('\\n')\n",
    " \n",
    "print ('去重数组的索引数组：')\n",
    "u,indices = np.unique(a, return_index = True)\n",
    "print (indices)\n",
    "print ('\\n')\n",
    " \n",
    "print ('我们可以看到每个和原数组下标对应的数值：')\n",
    "print (a)\n",
    "print ('\\n')\n",
    " \n",
    "print ('去重数组的下标：')\n",
    "u,indices = np.unique(a,return_inverse = True)\n",
    "print (u)\n",
    "print ('\\n')\n",
    " \n",
    "print ('下标为：')\n",
    "print (indices)\n",
    "print ('\\n')\n",
    " \n",
    "print ('使用下标重构原数组：')\n",
    "print (u[indices])\n",
    "print ('\\n')\n",
    " \n",
    "print ('返回去重元素的重复数量：')\n",
    "u,indices = np.unique(a,return_counts = True)\n",
    "print (u)\n",
    "print (indices)"
   ]
  },
  {
   "cell_type": "code",
   "execution_count": null,
   "metadata": {},
   "outputs": [],
   "source": []
  },
  {
   "cell_type": "markdown",
   "metadata": {},
   "source": [
    "## 翻转数组\n",
    "* transpose\t对换数组的维度\n",
    "* ndarray.T\t和 self.transpose() 相同\n",
    "* rollaxis\t向后滚动指定的轴\n",
    "* swapaxes\t对换数组的两个轴\n",
    "\n",
    "#### numpy.transpose 函数用于对换数组的维度，格式如下：\n",
    "\n",
    "#### numpy.transpose(arr, axes)\n",
    "* arr：要操作的数组\n",
    "* axes：整数列表，对应维度，通常所有维度都会对换。"
   ]
  },
  {
   "cell_type": "code",
   "execution_count": null,
   "metadata": {},
   "outputs": [],
   "source": [
    "import numpy as np\n",
    " \n",
    "a = np.arange(12).reshape(3,4)\n",
    " \n",
    "print ('原数组：')\n",
    "print (a )\n",
    "print ('\\n')\n",
    " \n",
    "print ('对换数组：')\n",
    "print (np.transpose(a))\n",
    "\n",
    "# numpy.ndarray.T 类似 numpy.transpose\n",
    "print ('对换数组：')\n",
    "print (a.T)"
   ]
  },
  {
   "cell_type": "markdown",
   "metadata": {},
   "source": [
    "### numpy.rollaxis 函数向后滚动特定的轴到一个特定位置，格式如下：\n",
    "* numpy.rollaxis(arr, axis, start)\n",
    "* arr：数组\n",
    "* axis：要向后滚动的轴，其它轴的相对位置不会改变\n",
    "* start：默认为零，表示完整的滚动。会滚动到特定位置。"
   ]
  },
  {
   "cell_type": "code",
   "execution_count": null,
   "metadata": {},
   "outputs": [],
   "source": [
    "import numpy as np\n",
    " \n",
    "# 创建了三维的 ndarray\n",
    "a = np.arange(8).reshape(2,2,2)\n",
    " \n",
    "print ('原数组：')\n",
    "print (a)\n",
    "print ('\\n')\n",
    "\n",
    "# 将轴 2 滚动到轴 0（宽度到深度）\n",
    " \n",
    "print ('调用 rollaxis 函数：')\n",
    "print (np.rollaxis(a,2))\n",
    "\n",
    "# 将轴 2 滚动到轴 1：（宽度到高度）\n",
    "print ('\\n')\n",
    " \n",
    "print ('调用 rollaxis 函数：')\n",
    "print (np.rollaxis(a,2,1))"
   ]
  },
  {
   "cell_type": "markdown",
   "metadata": {},
   "source": [
    "#### numpy.swapaxes 函数用于交换数组的两个轴，格式如下：\n",
    "* numpy.swapaxes(arr, axis1, axis2)\n",
    "* arr：输入的数组\n",
    "* axis1：对应第一个轴的整数\n",
    "* axis2：对应第二个轴的整数"
   ]
  },
  {
   "cell_type": "code",
   "execution_count": null,
   "metadata": {},
   "outputs": [],
   "source": [
    "import numpy as np\n",
    " \n",
    "# 创建了三维的 ndarray\n",
    "a = np.arange(8).reshape(2,2,2)\n",
    " \n",
    "print ('原数组：')\n",
    "print (a)\n",
    "print ('\\n')\n",
    "\n",
    "# 现在交换轴 0（深度方向）到轴 2（宽度方向）\n",
    " \n",
    "print ('调用 swapaxes 函数后的数组：')\n",
    "print (np.swapaxes(a, 2, 0))"
   ]
  },
  {
   "cell_type": "markdown",
   "metadata": {},
   "source": [
    "## 修改数组维度\n",
    "* broadcast\t产生模仿广播的对象\n",
    "* bbroadcast_to\t将数组广播到新形状\n",
    "* bexpand_dims\t扩展数组的形状\n",
    "* bsqueeze\t从数组的形状中删除一维条目\n",
    "#### numpy.broadcast 用于模仿广播的对象，它返回一个对象，该对象封装了将一个数组广播到另一个数组的结果。"
   ]
  },
  {
   "cell_type": "code",
   "execution_count": null,
   "metadata": {},
   "outputs": [],
   "source": [
    "import numpy as np\n",
    " \n",
    "x = np.array([[1], [2], [3]])\n",
    "y = np.array([4, 5, 6])  \n",
    "print(\"x数组：\\n\",x) \n",
    "print(\"y数组：\\n\",y) \n",
    "# 对 y 广播 x\n",
    "b = np.broadcast(x,y)  \n",
    "#print(\"b数组：\\n\",b) \n",
    "\n",
    "print ('广播对象的形状：')\n",
    "print (b.shape)\n",
    "print ('\\n')\n",
    "\n",
    "# 它拥有 iterator 属性，基于自身组件的迭代器元组\n",
    "r,c = b.iters\n",
    "print ('对 y 广播 x：')\n",
    "print (next(r), next(c))\n",
    "print (next(r), next(c))\n",
    "print (next(r), next(c))\n",
    "print (next(r), next(c))\n",
    "print (next(r), next(c))\n",
    "print (next(r), next(c))\n",
    "print (next(r), next(c))\n",
    "print (next(r), next(c))\n",
    "print (next(r), next(c))\n",
    "print ('\\n')\n",
    "\n",
    "# 手动使用 broadcast 将 x 与 y 相加\n",
    "b = np.broadcast(x,y)\n",
    "c = np.empty(b.shape)\n",
    "print (c.shape)\n",
    "\n",
    "print ('手动使用 broadcast 将 x 与 y 相加：')\n",
    "print ('\\n')\n",
    "c.flat = [u + v for (u,v) in b]\n",
    "print (c)\n",
    "print ('\\n')\n",
    "\n",
    "# 获得了和 NumPy 内建的广播支持相同的结果\n",
    "print ('x 与 y 的和：')\n",
    "print (x + y)\n",
    "\n",
    "print ('x 与 y 的和：')\n",
    "z = x+y\n",
    "print(z)"
   ]
  },
  {
   "attachments": {
    "image.png": {
     "image/png": "[encoded data removed]"
    }
   },
   "cell_type": "markdown",
   "metadata": {},
   "source": [
    "##### 广播(Broadcast)是 numpy 对不同形状(shape)的数组进行数值计算的方式， 对数组的算术运算通常在相应的元素上进行。\n",
    "##### 如果两个数组 a 和 b 形状相同，即满足 a.shape == b.shape，那么 a*b 的结果就是 a 与 b 数组对应位相乘。\n",
    "##### 当运算中的 2 个数组的形状不同时，numpy 将自动触发广播机制。\n",
    "##### 下面的图片展示了数组 b 如何通过广播来与数组 a 兼容。\n",
    "![image.png](attachment:image.png)"
   ]
  },
  {
   "cell_type": "code",
   "execution_count": null,
   "metadata": {},
   "outputs": [],
   "source": [
    "x = np.array([[0,0,0], [10,10,10,], [20,20,20],[30,30,30]])\n",
    "y = np.array([0,1,2])  \n",
    "print(x)\n",
    "print(\"\\n\")\n",
    "print(y)\n",
    "print(\"\\n\")\n",
    "print(x+y)"
   ]
  },
  {
   "cell_type": "markdown",
   "metadata": {},
   "source": [
    "#### numpy.broadcast_to  函数将数组广播到新形状。它在原始数组上返回只读视图。 它通常不连续。 如果新形状不符合 NumPy 的广播规则，该函数可能会抛出ValueError。\n",
    "* numpy.broadcast_to(array, shape, subok)"
   ]
  },
  {
   "cell_type": "code",
   "execution_count": null,
   "metadata": {},
   "outputs": [],
   "source": [
    "import numpy as np\n",
    " \n",
    "a = np.arange(4).reshape(1,4)\n",
    " \n",
    "print ('原数组：')\n",
    "print (a)\n",
    "print ('\\n')\n",
    " \n",
    "print ('调用 broadcast_to 函数之后：')\n",
    "b = np.broadcast_to(a,(4,4)) \n",
    "print (b)"
   ]
  },
  {
   "cell_type": "markdown",
   "metadata": {},
   "source": [
    "#### numpy.expand_dims  函数通过在指定位置插入新的轴来扩展数组形状，函数格式如下:\n",
    "\n",
    "* numpy.expand_dims(arr, axis)\n",
    "* arr：输入数组\n",
    "* axis：新轴插入的位置"
   ]
  },
  {
   "cell_type": "code",
   "execution_count": null,
   "metadata": {},
   "outputs": [],
   "source": [
    "import numpy as np\n",
    " \n",
    "x = np.array(([1,2],[3,4]))\n",
    " \n",
    "print ('数组 x：')\n",
    "print (x)\n",
    "print ('\\n')\n",
    "\n",
    "y = np.expand_dims(x, axis = 0)\n",
    "print ('数组 y：')\n",
    "print (y)\n",
    "print ('\\n')\n",
    " \n",
    "print ('数组 x 和 y 的形状：')\n",
    "print (x.shape, y.shape)\n",
    "print ('---------------------------------------------')\n",
    "\n",
    "y = np.expand_dims(x, axis = 1)\n",
    "print ('数组 y：')\n",
    "print (y)\n",
    "print ('\\n')\n",
    " \n",
    "print ('数组 x 和 y 的形状：')\n",
    "print (x.shape, y.shape)\n",
    "print ('\\n')"
   ]
  },
  {
   "cell_type": "code",
   "execution_count": null,
   "metadata": {
    "scrolled": true
   },
   "outputs": [],
   "source": [
    "import numpy as np\n",
    " \n",
    "x = np.array(([1,2],[3,4]))\n",
    " \n",
    "print ('数组 x：')\n",
    "print (x)\n",
    "print ('\\n')\n",
    "y = np.expand_dims(x, axis = 0)\n",
    " \n",
    "print ('数组 y：')\n",
    "print (y)\n",
    "print ('\\n')\n",
    " \n",
    "print ('数组 x 和 y 的形状：')\n",
    "print (x.shape, y.shape)\n",
    "print ('\\n')\n",
    "\n",
    "print(y[0])\n",
    "print(y[0,1,1])\n",
    "\n",
    "y = np.append(y, [[[5,6],[7,8]]],axis = 0)\n",
    "print(y)\n",
    "print (x.shape, y.shape)"
   ]
  },
  {
   "cell_type": "code",
   "execution_count": null,
   "metadata": {},
   "outputs": [],
   "source": [
    "import numpy as np\n",
    " \n",
    "x = np.array(([1,2],[3,4]))\n",
    " \n",
    "print ('数组 x：')\n",
    "print (x)\n",
    "print ('\\n')\n",
    "\n",
    "# 在位置 1 插入轴\n",
    "y = np.expand_dims(x, axis = 1)\n",
    " \n",
    "print ('在位置 1 插入轴之后的数组 y：')\n",
    "print (y)\n",
    "print ('\\n')\n",
    " \n",
    "print ('x.shape 和 y.shape：')\n",
    "print (x.shape, y.shape)\n",
    "\n",
    "print('---------------------------------')\n",
    "print(y[0])\n",
    "print(y[0,0])\n",
    "print(y[1])\n",
    "print(y[1,0])"
   ]
  },
  {
   "cell_type": "code",
   "execution_count": null,
   "metadata": {},
   "outputs": [],
   "source": [
    "import numpy as np\n",
    " \n",
    "x = np.array(([1,2],[3,4]))\n",
    " \n",
    "print ('数组 x：')\n",
    "print (x)\n",
    "print ('\\n')\n",
    "\n",
    "# 在位置 1 插入轴\n",
    "y = np.expand_dims(x, axis = 2)\n",
    " \n",
    "print ('在位置 1 插入轴之后的数组 y：')\n",
    "print (y)\n",
    "print ('\\n')\n",
    " \n",
    "print ('x.shape 和 y.shape：')\n",
    "print (x.shape, y.shape)\n",
    "\n",
    "print ('===============================================')\n",
    "print(y[0])\n",
    "print(y[0,0])\n",
    "print(y[1])\n",
    "print(y[1,0])"
   ]
  },
  {
   "cell_type": "markdown",
   "metadata": {},
   "source": [
    "#### numpy.squeeze 函数从给定数组的形状中删除一维的条目，函数格式如下：\n",
    "* numpy.squeeze(arr, axis)\n",
    "* arr：输入数组\n",
    "* axis：整数或整数元组，用于选择形状中一维条目的子集"
   ]
  },
  {
   "cell_type": "code",
   "execution_count": null,
   "metadata": {
    "scrolled": true
   },
   "outputs": [],
   "source": [
    "import numpy as np\n",
    " \n",
    "x = np.arange(9).reshape(1,3,3)\n",
    " \n",
    "print ('数组 x：')\n",
    "print (x)\n",
    "print ('\\n')\n",
    "y = np.squeeze(x)\n",
    " \n",
    "print ('数组 y：')\n",
    "print (y)\n",
    "print ('\\n')\n",
    " \n",
    "print ('数组 x 和 y 的形状：')\n",
    "print (x.shape, y.shape)"
   ]
  },
  {
   "cell_type": "markdown",
   "metadata": {},
   "source": [
    "## 连接数组\n",
    "* concatenate\t连接沿现有轴的数组序列\n",
    "* stack\t沿着新的轴加入一系列数组。\n",
    "* hstack\t水平堆叠序列中的数组（列方向）\n",
    "* vstack\t竖直堆叠序列中的数组（行方向）\n"
   ]
  },
  {
   "cell_type": "markdown",
   "metadata": {},
   "source": [
    "####  numpy.concatenate 函数用于沿指定轴连接相同形状的两个或多个数组，格式如下：\n",
    "* numpy.concatenate((a1, a2, ...), axis)\n",
    "* a1, a2, ...：相同类型的数组\n",
    "* axis：沿着它连接数组的轴，默认为 0"
   ]
  },
  {
   "cell_type": "code",
   "execution_count": null,
   "metadata": {},
   "outputs": [],
   "source": [
    "import numpy as np\n",
    " \n",
    "a = np.array([[1,2],[3,4]])\n",
    "print ('第一个数组：')\n",
    "print (a)\n",
    "print ('\\n')\n",
    "\n",
    "b = np.array([[5,6],[7,8]])\n",
    "print ('第二个数组：')\n",
    "print (b)\n",
    "print ('\\n')\n",
    "# 两个数组的维度相同\n",
    " \n",
    "print ('沿轴 0 连接两个数组：')\n",
    "print (np.concatenate((a,b)))\n",
    "print ('\\n')\n",
    " \n",
    "print ('沿轴 1 连接两个数组：')\n",
    "print (np.concatenate((a,b),axis = 1))"
   ]
  },
  {
   "cell_type": "markdown",
   "metadata": {},
   "source": [
    "#### numpy.stack 函数用于沿新轴连接数组序列，格式如下：\n",
    "* numpy.stack(arrays, axis)\n",
    "* arrays相同形状的数组序列\n",
    "* axis：返回数组中的轴，输入数组沿着它来堆叠"
   ]
  },
  {
   "cell_type": "code",
   "execution_count": null,
   "metadata": {},
   "outputs": [],
   "source": [
    "import numpy as np\n",
    " \n",
    "a = np.array([[1,2],[3,4]])\n",
    "print ('第一个数组：')\n",
    "print (a)\n",
    "print ('\\n')\n",
    "\n",
    "b = np.array([[5,6],[7,8]])\n",
    "print ('第二个数组：')\n",
    "print (b)\n",
    "print ('\\n')\n",
    " \n",
    "print ('沿轴 0 堆叠两个数组：')\n",
    "z = np.stack((a,b),0)\n",
    "print (z)\n",
    "print(\"z.shape:\\n\",z.shape) \n",
    "print ('\\n')\n",
    "\n",
    "print ('沿轴 1 堆叠两个数组：')\n",
    "print (np.stack((a,b),1))\n",
    "\n"
   ]
  },
  {
   "cell_type": "markdown",
   "metadata": {},
   "source": [
    "#### numpy.hstack 是 numpy.stack 函数的变体，它通过水平堆叠来生成数组。"
   ]
  },
  {
   "cell_type": "code",
   "execution_count": null,
   "metadata": {},
   "outputs": [],
   "source": [
    "import numpy as np\n",
    " \n",
    "a = np.array([[1,2],[3,4]])\n",
    " \n",
    "print ('第一个数组：')\n",
    "print (a)\n",
    "print ('\\n')\n",
    "b = np.array([[5,6],[7,8]])\n",
    " \n",
    "print ('第二个数组：')\n",
    "print (b)\n",
    "print ('\\n')\n",
    " \n",
    "print ('水平堆叠：')\n",
    "c = np.hstack((a,b))\n",
    "print (c)\n",
    "print ('\\n')"
   ]
  },
  {
   "cell_type": "markdown",
   "metadata": {},
   "source": [
    "#### numpy.vstack 是 numpy.stack 函数的变体，它通过垂直堆叠来生成数组。"
   ]
  },
  {
   "cell_type": "code",
   "execution_count": null,
   "metadata": {},
   "outputs": [],
   "source": [
    "import numpy as np\n",
    " \n",
    "a = np.array([[1,2],[3,4]])\n",
    " \n",
    "print ('第一个数组：')\n",
    "print (a)\n",
    "print ('\\n')\n",
    "b = np.array([[5,6],[7,8]])\n",
    " \n",
    "print ('第二个数组：')\n",
    "print (b)\n",
    "print ('\\n')\n",
    " \n",
    "print ('竖直堆叠：')\n",
    "c = np.vstack((a,b))\n",
    "print (c)"
   ]
  },
  {
   "cell_type": "code",
   "execution_count": null,
   "metadata": {},
   "outputs": [],
   "source": [
    "# NumPy数组：组合数组(深度组合）\n",
    "from numpy import *\n",
    "\n",
    "a = arange(12).reshape(2,6)\n",
    "b = a * 2\n",
    "c = a * 3\n",
    "d = a * 4\n",
    "print(a)\n",
    "print(b)\n",
    "print(c)\n",
    "print(d)\n",
    "e = dstack((a,b,c,d))\n",
    "print(e)\n",
    "print(e.shape)\n",
    "print(a[0][0])  # 0\n",
    "print(b[0][0])  # 0\n",
    "print(c[0][0])  # 0\n",
    "print(d[0][0])  # 0\n",
    "\n",
    "print(e[0][0])\n",
    "print(e[0][1])\n",
    "print(e[1][1])\n"
   ]
  },
  {
   "cell_type": "markdown",
   "metadata": {},
   "source": [
    "## 分割数组\n",
    "* split\t将一个数组分割为多个子数组\n",
    "* hsplit\t将一个数组水平分割为多个子数组（按列）\n",
    "* vsplit\t将一个数组垂直分割为多个子数组（按行）\n"
   ]
  },
  {
   "cell_type": "markdown",
   "metadata": {},
   "source": [
    "#### numpy.split 函数沿特定的轴将数组分割为子数组，格式如下：\n",
    "\n",
    "* numpy.split(ary, indices_or_sections, axis)\n",
    "* ary：被分割的数组\n",
    "* indices_or_sections：如果是一个整数，就用该数平均切分，如果是一个数组，为沿轴切分的位置（左开右闭）\n",
    "* axis：沿着哪个维度进行切向，默认为0，横向切分。为1时，纵向切分"
   ]
  },
  {
   "cell_type": "code",
   "execution_count": null,
   "metadata": {},
   "outputs": [],
   "source": [
    "import numpy as np\n",
    " \n",
    "a = np.arange(9)\n",
    " \n",
    "print ('第一个数组：')\n",
    "print (a)\n",
    "print ('\\n')\n",
    " \n",
    "print ('将数组分为三个大小相等的子数组：')\n",
    "b = np.split(a,3)\n",
    "print (b)\n",
    "print ('\\n')\n",
    " \n",
    "print ('将数组在一维数组中表明的位置分割：')\n",
    "b = np.split(a,[4,7])\n",
    "print (b)"
   ]
  },
  {
   "cell_type": "code",
   "execution_count": null,
   "metadata": {
    "scrolled": true
   },
   "outputs": [],
   "source": [
    "import numpy as np\n",
    " \n",
    "a = np.arange(27).reshape(9,3)\n",
    " \n",
    "print ('第一个数组：')\n",
    "print (a)\n",
    "print ('\\n')\n",
    " \n",
    "print ('延0轴将数组分为三个大小相等的子数组：')\n",
    "b = np.split(a,3,axis=0)\n",
    "print (b)\n",
    "print ('\\n')\n",
    "\n",
    "print ('延1轴将数组分为三个大小相等的子数组：')\n",
    "b = np.split(a,3,axis=1)\n",
    "print (b)\n",
    "print ('\\n')\n",
    "\n",
    "print ('延0轴将数组在表明的位置分割：')\n",
    "b = np.split(a,[4,7],axis=0)\n",
    "print (b)"
   ]
  },
  {
   "cell_type": "markdown",
   "metadata": {},
   "source": [
    "#### numpy.hsplit 函数用于水平分割数组，通过指定要返回的相同形状的数组数量来拆分原数组。"
   ]
  },
  {
   "cell_type": "code",
   "execution_count": null,
   "metadata": {},
   "outputs": [],
   "source": [
    "import numpy as np\n",
    " \n",
    "harr = np.arange(27).reshape(9,3)\n",
    "print ('原array：')\n",
    "print(harr)\n",
    " \n",
    "print ('拆分后：')\n",
    "print(np.hsplit(harr, 3))"
   ]
  },
  {
   "cell_type": "code",
   "execution_count": null,
   "metadata": {},
   "outputs": [],
   "source": [
    "import numpy as np\n",
    " \n",
    "harr = np.floor(10 * np.random.random((2, 6)))\n",
    "print ('原array：')\n",
    "print(harr)\n",
    " \n",
    "print ('拆分后：')\n",
    "print(np.hsplit(harr, 3))"
   ]
  },
  {
   "cell_type": "markdown",
   "metadata": {},
   "source": [
    "#### numpy.vsplit 沿着垂直轴分割，其分割方式与hsplit用法相同。"
   ]
  },
  {
   "cell_type": "code",
   "execution_count": null,
   "metadata": {},
   "outputs": [],
   "source": [
    "import numpy as np\n",
    " \n",
    "a = np.arange(16).reshape(4,4)\n",
    " \n",
    "print ('第一个数组：')\n",
    "print (a)\n",
    "print ('\\n')\n",
    " \n",
    "print ('竖直分割：')\n",
    "b = np.vsplit(a,2)\n",
    "print (b)"
   ]
  }
 ],
 "metadata": {
  "kernelspec": {
   "display_name": "Python 3",
   "language": "python",
   "name": "python3"
  },
  "language_info": {
   "codemirror_mode": {
    "name": "ipython",
    "version": 3
   },
   "file_extension": ".py",
   "mimetype": "text/x-python",
   "name": "python",
   "nbconvert_exporter": "python",
   "pygments_lexer": "ipython3",
   "version": "3.7.0"
  }
 },
 "nbformat": 4,
 "nbformat_minor": 2
}
