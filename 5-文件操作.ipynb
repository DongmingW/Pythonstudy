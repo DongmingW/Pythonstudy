{
 "cells": [
  {
   "attachments": {},
   "cell_type": "markdown",
   "metadata": {},
   "source": [
    "##### open() ：用于打开一个文件，并返回文件对象。\n",
    "* 如：f = open('workfile', 'w')\n",
    "##### 通常的用法需要三个参数：open(filename, mode，encoding='UTF-8')\n",
    "###### mode :\n",
    "* 'r'：表示只是读取文件；\n",
    "* 'w'：表示只是写入文件（已经存在的同名文件将被删掉）；\n",
    "* 'a'：表示打开文件进行追加，写入到文件中的任何数据将自动添加到末尾。\n",
    "* r+：文件可读写，如果文件不存在，会抛出异常。如果文件存在，会从当前位置开始写入新内容，通过seek函数可以改变当前的位置，也就是改变文件的指针。\n",
    "* w+：文件可读写，如果文件不存在，会创建一个新文件，如果文件存在，会清空整个文件，并写入新内容。\n",
    "* a+：文件可读写，如果文件不存在，会创建一个新文件，如果文件存在，会将要写入的内容添加到原文件的最后。也就是说，使用a+打开已经存在的文件，文件指针已经在文件的结尾了\n"
   ]
  },
  {
   "cell_type": "code",
   "execution_count": null,
   "metadata": {},
   "outputs": [],
   "source": [
    "f = open(\"fileoi2.txt\",\"r\")\n",
    "for line in f:\n",
    "    print(line)\n",
    "f.close()"
   ]
  },
  {
   "cell_type": "code",
   "execution_count": null,
   "metadata": {
    "scrolled": true
   },
   "outputs": [],
   "source": [
    "f = open(\"fileoi1.txt\",\"r\",encoding='UTF-8')\n",
    "for line in f:\n",
    "    print(line)\n",
    "f.close()\n"
   ]
  },
  {
   "cell_type": "code",
   "execution_count": null,
   "metadata": {
    "scrolled": true
   },
   "outputs": [],
   "source": [
    "file1 = open(\"c:/users/jiang/file3.txt\",\"r\")\n",
    "list1 = file1.read()\n",
    "print(list1)\n",
    "file1.close()"
   ]
  },
  {
   "cell_type": "code",
   "execution_count": null,
   "metadata": {},
   "outputs": [],
   "source": [
    "with open(\"test.txt\", \"w\") as out_file:\n",
    "    out_file.write(\"该文本会写入到文件中\\n看到我了吧！\")\n",
    " \n",
    "# Read a file\n",
    "with open(\"test.txt\", \"r\") as in_file:\n",
    "    text = in_file.read()\n",
    " \n",
    "print(text)"
   ]
  },
  {
   "cell_type": "code",
   "execution_count": 2,
   "metadata": {
    "scrolled": true
   },
   "outputs": [
    {
     "name": "stdout",
     "output_type": "stream",
     "text": [
      "https://geekori.com\n",
      "https://geekori.com/que.php\n",
      "http://ningedu.com\n",
      "http://baidu.com\n",
      "http://baidu.com\n",
      "http://baidu.com\n",
      "https://google.com\n",
      "https://jd.com\n",
      "http://baidu.com\n",
      "--------------\n",
      "171\n",
      "['https://geekori.com\\n', 'https://geekori.com/que.php\\n', 'http://ningedu.com\\n', 'http://baidu.com\\n', 'http://baidu.com\\n', 'http://baidu.com\\n', 'https://google.com\\n', 'https://jd.com\\n', 'http://baidu.com\\n', '\\n', 'https://google.com\\n', '\\n', 'https://jd.com\\n', '\\n', 'http://baidu.com\\n', '\\n', 'https://google.com\\n', '\\n', 'https://jd.com\\n', '\\n', 'http://baidu.com\\n', '\\n', 'https://google.com\\n', '\\n', 'https://jd.com\\n', '\\n', 'http://baidu.com\\n', '\\n', 'https://google.com\\n', '\\n', 'https://jd.com\\n', '\\n', 'http://baidu.com\\n', '\\n', 'https://google.com\\n', '\\n', 'https://jd.com\\n', '\\n', 'http://baidu.com\\n', '\\n', 'https://google.com\\n', '\\n', 'https://jd.com\\n', '\\n', 'http://baidu.com\\n', '\\n', 'https://google.com\\n', '\\n', 'https://jd.com\\n', '\\n', 'http://baidu.com\\n', '\\n', 'https://google.com\\n', '\\n', 'https://jd.com\\n', '\\n', 'http://baidu.com\\n', '\\n', 'https://google.com\\n', '\\n', 'https://jd.com\\n', '\\n', 'http://baidu.com\\n', 'https://google.com\\n', '\\n', 'https://jd.com\\n', 'http://baidu.com\\n', '\\n', 'https://google.com\\n', '\\n', 'https://jd.com\\n', '\\n', 'http://baidu.com\\n', '\\n', 'https://google.com\\n', '\\n', 'https://jd.com\\n', '\\n', 'http://baidu.com\\n', '\\n', 'https://google.com\\n', '\\n', 'https://jd.com\\n', '\\n', 'http://baidu.com\\n', '\\n', 'https://google.com\\n', '\\n', 'https://jd.com\\n', '\\n', 'http://baidu.com\\n', '\\n', 'https://google.com\\n', '\\n', 'https://jd.com\\n', '\\n']\n"
     ]
    }
   ],
   "source": [
    "# 读行与写行\n",
    "import os\n",
    "f = open('./files/urls.txt', 'r+')\n",
    "url = ''\n",
    "while True:\n",
    "    url = f.readline()\n",
    "    url = url.rstrip()\n",
    "    if url == '':\n",
    "        break;\n",
    "    else:\n",
    "        print(url)\n",
    "print('--------------')\n",
    "print(f.tell())\n",
    "f.seek(0)\n",
    "\n",
    "print(f.readlines())\n",
    "f.write('http://baidu.com' + os.linesep)\n",
    "f.close()\n",
    "\n",
    "f = open(\"./files/urls.txt\", 'a+')\n",
    "urlList = ['https://google.com' + os.linesep,'https://jd.com' + os.linesep]\n",
    "f.writelines(urlList)\n",
    "f.close()\n"
   ]
  },
  {
   "cell_type": "markdown",
   "metadata": {},
   "source": [
    "#### 有两个文件，每个都有很多行ip地址，求出两个文件中相同的ip地址。\n"
   ]
  },
  {
   "cell_type": "code",
   "execution_count": 3,
   "metadata": {},
   "outputs": [
    {
     "name": "stdout",
     "output_type": "stream",
     "text": [
      "same_data\n",
      " ['192.168.1.1', '192.168.1.2', '192.168.1.4', '192.168.1.6', '192.168.1.3', '192.168.1.8', '192.168.1.5', '192.168.1.9', '192.168.1.7']\n"
     ]
    }
   ],
   "source": [
    "with open('ipaddr1.txt', 'r') as f1:\n",
    "    list1 = f1.readlines()\n",
    "for i in range(0, len(list1)):\n",
    "    list1[i] = list1[i].strip('\\n')\n",
    "with open('ipaddr2.txt', 'r') as f2:\n",
    "    list2 = f2.readlines()\n",
    "for i in range(0, len(list2)):\n",
    "    list2[i] = list2[i].strip('\\n')\n",
    "list2.sort()\n",
    "same_data = []\n",
    "for i in list1:\n",
    "    if i in list2:\n",
    "        same_data.append(i)\n",
    "same_data = list(set(same_data))\n",
    "print(\"same_data\\n\",same_data)\n"
   ]
  },
  {
   "cell_type": "code",
   "execution_count": null,
   "metadata": {},
   "outputs": [],
   "source": [
    "import bisect\n",
    "\n",
    "with open('ipaddr1.txt', 'r') as f1:\n",
    "    list1 = f1.readlines()\n",
    "for i in range(0, len(list1)):\n",
    "    list1[i] = list1[i].strip('\\n')\n",
    "with open('ipaddr2.txt', 'r') as f2:\n",
    "    list2 = f2.readlines()\n",
    "for i in range(0, len(list2)):\n",
    "    list2[i] = list2[i].strip('\\n')\n",
    "list2.sort()\n",
    "same_data = []\n",
    "for i in list1:\n",
    "    pos = bisect.bisect_left(list2, i)\n",
    "    if pos < len(list2) and list2[pos] == i:\n",
    "        same_data.append(i)\n",
    "same_data = list(set(same_data))\n",
    "print(same_data)\n",
    "\n"
   ]
  }
 ],
 "metadata": {
  "kernelspec": {
   "display_name": "Python 3",
   "language": "python",
   "name": "python3"
  },
  "language_info": {
   "codemirror_mode": {
    "name": "ipython",
    "version": 3
   },
   "file_extension": ".py",
   "mimetype": "text/x-python",
   "name": "python",
   "nbconvert_exporter": "python",
   "pygments_lexer": "ipython3",
   "version": "3.7.0"
  }
 },
 "nbformat": 4,
 "nbformat_minor": 2
}
